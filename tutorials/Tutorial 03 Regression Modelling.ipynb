{
 "cells": [
  {
   "cell_type": "markdown",
   "metadata": {},
   "source": [
    "<center><img src=\"http://sydney.edu.au/images/content/about/logo-mono.jpg\"></center>\n",
    "\n",
    "<center><h1>Statistical Learning and Data Mining (QBUS6810)</h1></center>\n",
    "<center><h2>Tutorial 3: Regression modelling</h2></center>\n",
    "<br>\n",
    "\n",
    "In this tutorial we will put the regression modelling tools from Module 4 into practice by using a new dataset.\n",
    "\n",
    "<a class=\"buttom\" href=\"#Data\">Data</a> <br>\n",
    "<a class=\"buttom\" href=\"#Exploratory Data Analysis\">Exploratory Data Analysis</a> <br>\n",
    "<a class=\"buttom\" href=\"#Creating-new-variables\">Creating new variables</a> <br>\n",
    "<a class=\"buttom\" href=\"#Linear-regression\">Linear regression</a> <br>\n",
    "<a class=\"buttom\" href=\"#Predictions\">Predictions</a> <br>\n",
    "<a class=\"buttom\" href=\"#Question-for-reflection\">Question for reflection</a> <br>\n",
    "\n",
    "This notebook relies on the following imports and settings throughout. We will load new packages and functions in context to make clear what we are using them for. "
   ]
  },
  {
   "cell_type": "code",
   "execution_count": 1,
   "metadata": {
    "collapsed": true
   },
   "outputs": [],
   "source": [
    "import pandas as pd\n",
    "import numpy as np\n",
    "import matplotlib.pyplot as plt\n",
    "import seaborn as sns\n",
    "%matplotlib inline\n",
    "sns.set_context('notebook')\n",
    "sns.set(style=\"ticks\", color_codes=True)"
   ]
  },
  {
   "cell_type": "markdown",
   "metadata": {},
   "source": [
    "###Data\n",
    "\n",
    "The <TT>Employees.csv</TT> file records data about the employees of a company. The dataset is from [Business Analytics for Managers](http://www.springer.com/us/book/9781461404057) by Wolfgang Jank.  In this problem, the managers are concerned with the issue of equal pay in the company. If we compare male and female employees with the same level of experience, are they paid the same on average?\n",
    "\n",
    "In recent years, workforce, [HR](https://www-01.ibm.com/software/analytics/solutions/operational-analytics/hr-analytics/), and [people analytics](http://knowledge.wharton.upenn.edu/article/open-sourcing-googles-hr-secrets/) have emerged as terms for the practice of data-driven human capital management. "
   ]
  },
  {
   "cell_type": "code",
   "execution_count": 2,
   "metadata": {},
   "outputs": [
    {
     "data": {
      "text/html": [
       "<div>\n",
       "<style>\n",
       "    .dataframe thead tr:only-child th {\n",
       "        text-align: right;\n",
       "    }\n",
       "\n",
       "    .dataframe thead th {\n",
       "        text-align: left;\n",
       "    }\n",
       "\n",
       "    .dataframe tbody tr th {\n",
       "        vertical-align: top;\n",
       "    }\n",
       "</style>\n",
       "<table border=\"1\" class=\"dataframe\">\n",
       "  <thead>\n",
       "    <tr style=\"text-align: right;\">\n",
       "      <th></th>\n",
       "      <th>Gender</th>\n",
       "      <th>Experience</th>\n",
       "      <th>Salary</th>\n",
       "    </tr>\n",
       "  </thead>\n",
       "  <tbody>\n",
       "    <tr>\n",
       "      <th>0</th>\n",
       "      <td>Female</td>\n",
       "      <td>15</td>\n",
       "      <td>78200</td>\n",
       "    </tr>\n",
       "    <tr>\n",
       "      <th>1</th>\n",
       "      <td>Female</td>\n",
       "      <td>12</td>\n",
       "      <td>66400</td>\n",
       "    </tr>\n",
       "    <tr>\n",
       "      <th>2</th>\n",
       "      <td>Female</td>\n",
       "      <td>15</td>\n",
       "      <td>61200</td>\n",
       "    </tr>\n",
       "    <tr>\n",
       "      <th>3</th>\n",
       "      <td>Female</td>\n",
       "      <td>3</td>\n",
       "      <td>61000</td>\n",
       "    </tr>\n",
       "    <tr>\n",
       "      <th>4</th>\n",
       "      <td>Female</td>\n",
       "      <td>4</td>\n",
       "      <td>60000</td>\n",
       "    </tr>\n",
       "    <tr>\n",
       "      <th>5</th>\n",
       "      <td>Female</td>\n",
       "      <td>4</td>\n",
       "      <td>68000</td>\n",
       "    </tr>\n",
       "    <tr>\n",
       "      <th>6</th>\n",
       "      <td>Female</td>\n",
       "      <td>9</td>\n",
       "      <td>59000</td>\n",
       "    </tr>\n",
       "    <tr>\n",
       "      <th>7</th>\n",
       "      <td>Female</td>\n",
       "      <td>11</td>\n",
       "      <td>53600</td>\n",
       "    </tr>\n",
       "    <tr>\n",
       "      <th>8</th>\n",
       "      <td>Female</td>\n",
       "      <td>16</td>\n",
       "      <td>62600</td>\n",
       "    </tr>\n",
       "    <tr>\n",
       "      <th>9</th>\n",
       "      <td>Female</td>\n",
       "      <td>9</td>\n",
       "      <td>62400</td>\n",
       "    </tr>\n",
       "  </tbody>\n",
       "</table>\n",
       "</div>"
      ],
      "text/plain": [
       "   Gender  Experience  Salary\n",
       "0  Female          15   78200\n",
       "1  Female          12   66400\n",
       "2  Female          15   61200\n",
       "3  Female           3   61000\n",
       "4  Female           4   60000\n",
       "5  Female           4   68000\n",
       "6  Female           9   59000\n",
       "7  Female          11   53600\n",
       "8  Female          16   62600\n",
       "9  Female           9   62400"
      ]
     },
     "execution_count": 2,
     "metadata": {},
     "output_type": "execute_result"
    }
   ],
   "source": [
    "data=pd.read_csv('Employees.csv')\n",
    "data.head(10)"
   ]
  },
  {
   "cell_type": "code",
   "execution_count": 3,
   "metadata": {},
   "outputs": [
    {
     "data": {
      "text/plain": [
       "208"
      ]
     },
     "execution_count": 3,
     "metadata": {},
     "output_type": "execute_result"
    }
   ],
   "source": [
    "len(data)"
   ]
  },
  {
   "cell_type": "markdown",
   "metadata": {},
   "source": [
    "Because our focus is on supervised learning, rather than statistical inference only, we split our data into training and test sets to evaluate the predictive performance of different models. "
   ]
  },
  {
   "cell_type": "code",
   "execution_count": 4,
   "metadata": {},
   "outputs": [
    {
     "data": {
      "text/html": [
       "<div>\n",
       "<style>\n",
       "    .dataframe thead tr:only-child th {\n",
       "        text-align: right;\n",
       "    }\n",
       "\n",
       "    .dataframe thead th {\n",
       "        text-align: left;\n",
       "    }\n",
       "\n",
       "    .dataframe tbody tr th {\n",
       "        vertical-align: top;\n",
       "    }\n",
       "</style>\n",
       "<table border=\"1\" class=\"dataframe\">\n",
       "  <thead>\n",
       "    <tr style=\"text-align: right;\">\n",
       "      <th></th>\n",
       "      <th>Gender</th>\n",
       "      <th>Experience</th>\n",
       "      <th>Salary</th>\n",
       "    </tr>\n",
       "  </thead>\n",
       "  <tbody>\n",
       "    <tr>\n",
       "      <th>166</th>\n",
       "      <td>Male</td>\n",
       "      <td>4</td>\n",
       "      <td>83000</td>\n",
       "    </tr>\n",
       "    <tr>\n",
       "      <th>182</th>\n",
       "      <td>Male</td>\n",
       "      <td>10</td>\n",
       "      <td>94000</td>\n",
       "    </tr>\n",
       "    <tr>\n",
       "      <th>170</th>\n",
       "      <td>Male</td>\n",
       "      <td>7</td>\n",
       "      <td>84000</td>\n",
       "    </tr>\n",
       "    <tr>\n",
       "      <th>122</th>\n",
       "      <td>Female</td>\n",
       "      <td>15</td>\n",
       "      <td>87600</td>\n",
       "    </tr>\n",
       "    <tr>\n",
       "      <th>19</th>\n",
       "      <td>Female</td>\n",
       "      <td>22</td>\n",
       "      <td>84400</td>\n",
       "    </tr>\n",
       "  </tbody>\n",
       "</table>\n",
       "</div>"
      ],
      "text/plain": [
       "     Gender  Experience  Salary\n",
       "166    Male           4   83000\n",
       "182    Male          10   94000\n",
       "170    Male           7   84000\n",
       "122  Female          15   87600\n",
       "19   Female          22   84400"
      ]
     },
     "execution_count": 4,
     "metadata": {},
     "output_type": "execute_result"
    }
   ],
   "source": [
    "train = data.sample(frac=0.7, random_state=25)\n",
    "test = data[data.index.isin(train.index)==False].copy() # the copy here is for technical reasons\n",
    "train.head()"
   ]
  },
  {
   "cell_type": "markdown",
   "metadata": {},
   "source": [
    "While we do not need this here, it is often useful to retrieve all the possible values of a categorical variable in the data. "
   ]
  },
  {
   "cell_type": "code",
   "execution_count": 5,
   "metadata": {},
   "outputs": [
    {
     "data": {
      "text/plain": [
       "array(['Male', 'Female'], dtype=object)"
      ]
     },
     "execution_count": 5,
     "metadata": {},
     "output_type": "execute_result"
    }
   ],
   "source": [
    "train['Gender'].unique()"
   ]
  },
  {
   "cell_type": "markdown",
   "metadata": {},
   "source": [
    "###Exploratory data analysis\n",
    "\n",
    "The next several cells display a range of summary measures and exploratory plots for the data. We learn for example that: \n",
    "\n",
    "* Male employees have higher salaries than female employees on average. The pay gap seems to be larger at the upper quantiles of the salary distribution for each group.  The variance in salaries is substantially higher for males.\n",
    "\n",
    " \n",
    "* The distribution of salary is pronouncedly right skewed for both males and females.\n",
    "\n",
    "\n",
    "* Not surprisingly, experience is strongly positively related to salary. When considering all the employees, three of them appear as outliers as they have much higher salaries than the rest of the employees . These are probably senior executives in the company (further investigation would reveal that they are all males). \n",
    "\n",
    "\n",
    "* There seems to be an interaction between gender and experience. The pay gap increases with the level of experience. Allowing for this interaction, the employees with highest salary do not seem to be outliers anymore."
   ]
  },
  {
   "cell_type": "code",
   "execution_count": 6,
   "metadata": {},
   "outputs": [
    {
     "data": {
      "text/html": [
       "<div>\n",
       "<style>\n",
       "    .dataframe thead tr:only-child th {\n",
       "        text-align: right;\n",
       "    }\n",
       "\n",
       "    .dataframe thead th {\n",
       "        text-align: left;\n",
       "    }\n",
       "\n",
       "    .dataframe tbody tr th {\n",
       "        vertical-align: top;\n",
       "    }\n",
       "</style>\n",
       "<table border=\"1\" class=\"dataframe\">\n",
       "  <thead>\n",
       "    <tr style=\"text-align: right;\">\n",
       "      <th></th>\n",
       "      <th>count</th>\n",
       "      <th>mean</th>\n",
       "      <th>std</th>\n",
       "      <th>min</th>\n",
       "      <th>25%</th>\n",
       "      <th>50%</th>\n",
       "      <th>75%</th>\n",
       "      <th>max</th>\n",
       "    </tr>\n",
       "    <tr>\n",
       "      <th>Gender</th>\n",
       "      <th></th>\n",
       "      <th></th>\n",
       "      <th></th>\n",
       "      <th></th>\n",
       "      <th></th>\n",
       "      <th></th>\n",
       "      <th></th>\n",
       "      <th></th>\n",
       "    </tr>\n",
       "  </thead>\n",
       "  <tbody>\n",
       "    <tr>\n",
       "      <th>Female</th>\n",
       "      <td>103.0</td>\n",
       "      <td>73769.71</td>\n",
       "      <td>12821.20</td>\n",
       "      <td>53600.0</td>\n",
       "      <td>63900.0</td>\n",
       "      <td>70800.0</td>\n",
       "      <td>82300.0</td>\n",
       "      <td>123000.0</td>\n",
       "    </tr>\n",
       "    <tr>\n",
       "      <th>Male</th>\n",
       "      <td>43.0</td>\n",
       "      <td>92493.02</td>\n",
       "      <td>30225.92</td>\n",
       "      <td>54000.0</td>\n",
       "      <td>68500.0</td>\n",
       "      <td>88000.0</td>\n",
       "      <td>106000.0</td>\n",
       "      <td>194000.0</td>\n",
       "    </tr>\n",
       "  </tbody>\n",
       "</table>\n",
       "</div>"
      ],
      "text/plain": [
       "        count      mean       std      min      25%      50%       75%  \\\n",
       "Gender                                                                   \n",
       "Female  103.0  73769.71  12821.20  53600.0  63900.0  70800.0   82300.0   \n",
       "Male     43.0  92493.02  30225.92  54000.0  68500.0  88000.0  106000.0   \n",
       "\n",
       "             max  \n",
       "Gender            \n",
       "Female  123000.0  \n",
       "Male    194000.0  "
      ]
     },
     "execution_count": 6,
     "metadata": {},
     "output_type": "execute_result"
    }
   ],
   "source": [
    "train.groupby('Gender')['Salary'].describe().round(2) "
   ]
  },
  {
   "cell_type": "code",
   "execution_count": 7,
   "metadata": {},
   "outputs": [
    {
     "data": {
      "image/png": "[encoded data removed]",
      "text/plain": [
       "<matplotlib.figure.Figure at 0x1e0f61716a0>"
      ]
     },
     "metadata": {},
     "output_type": "display_data"
    }
   ],
   "source": [
    "sns.boxplot(x='Gender', y='Salary', data=train, palette='Blues')\n",
    "plt.tight_layout()\n",
    "plt.show()"
   ]
  },
  {
   "cell_type": "code",
   "execution_count": 8,
   "metadata": {},
   "outputs": [
    {
     "data": {
      "image/png": "[encoded data removed]",
      "text/plain": [
       "<matplotlib.figure.Figure at 0x1e0f61c0a58>"
      ]
     },
     "metadata": {},
     "output_type": "display_data"
    }
   ],
   "source": [
    "sns.distplot(train.loc[train['Gender']=='Male','Salary'], hist=False, label='Male')\n",
    "sns.distplot(train.loc[train['Gender']=='Female','Salary'], hist=False, label='Female')\n",
    "sns.despine()\n",
    "plt.show()"
   ]
  },
  {
   "cell_type": "code",
   "execution_count": 9,
   "metadata": {},
   "outputs": [
    {
     "data": {
      "image/png": "[encoded data removed]",
      "text/plain": [
       "<matplotlib.figure.Figure at 0x1e0f268e4e0>"
      ]
     },
     "metadata": {},
     "output_type": "display_data"
    }
   ],
   "source": [
    "sns.regplot(train['Experience'], train['Salary'], scatter_kws={'s': 30}, ci=None)\n",
    "sns.despine()\n",
    "plt.show()"
   ]
  },
  {
   "cell_type": "code",
   "execution_count": 10,
   "metadata": {},
   "outputs": [
    {
     "data": {
      "image/png": "[encoded data removed]",
      "text/plain": [
       "<matplotlib.figure.Figure at 0x1e0f77a8828>"
      ]
     },
     "metadata": {},
     "output_type": "display_data"
    }
   ],
   "source": [
    "sns.lmplot('Experience', 'Salary', data=train, hue='Gender', size=6, aspect=1.2, scatter_kws={'s': 30}, ci=None)\n",
    "plt.show()"
   ]
  },
  {
   "cell_type": "markdown",
   "metadata": {},
   "source": [
    "###Creating new variables\n",
    "\n",
    "To incorporate the gender predictor into a linear regression model, we need to create a dummy variable. There are two ways of doing this. One is to do it manually as below. "
   ]
  },
  {
   "cell_type": "code",
   "execution_count": 11,
   "metadata": {},
   "outputs": [
    {
     "data": {
      "text/html": [
       "<div>\n",
       "<style>\n",
       "    .dataframe thead tr:only-child th {\n",
       "        text-align: right;\n",
       "    }\n",
       "\n",
       "    .dataframe thead th {\n",
       "        text-align: left;\n",
       "    }\n",
       "\n",
       "    .dataframe tbody tr th {\n",
       "        vertical-align: top;\n",
       "    }\n",
       "</style>\n",
       "<table border=\"1\" class=\"dataframe\">\n",
       "  <thead>\n",
       "    <tr style=\"text-align: right;\">\n",
       "      <th></th>\n",
       "      <th>Gender</th>\n",
       "      <th>Experience</th>\n",
       "      <th>Salary</th>\n",
       "      <th>Female</th>\n",
       "    </tr>\n",
       "  </thead>\n",
       "  <tbody>\n",
       "    <tr>\n",
       "      <th>166</th>\n",
       "      <td>Male</td>\n",
       "      <td>4</td>\n",
       "      <td>83000</td>\n",
       "      <td>0</td>\n",
       "    </tr>\n",
       "    <tr>\n",
       "      <th>182</th>\n",
       "      <td>Male</td>\n",
       "      <td>10</td>\n",
       "      <td>94000</td>\n",
       "      <td>0</td>\n",
       "    </tr>\n",
       "    <tr>\n",
       "      <th>170</th>\n",
       "      <td>Male</td>\n",
       "      <td>7</td>\n",
       "      <td>84000</td>\n",
       "      <td>0</td>\n",
       "    </tr>\n",
       "    <tr>\n",
       "      <th>122</th>\n",
       "      <td>Female</td>\n",
       "      <td>15</td>\n",
       "      <td>87600</td>\n",
       "      <td>1</td>\n",
       "    </tr>\n",
       "    <tr>\n",
       "      <th>19</th>\n",
       "      <td>Female</td>\n",
       "      <td>22</td>\n",
       "      <td>84400</td>\n",
       "      <td>1</td>\n",
       "    </tr>\n",
       "  </tbody>\n",
       "</table>\n",
       "</div>"
      ],
      "text/plain": [
       "     Gender  Experience  Salary  Female\n",
       "166    Male           4   83000       0\n",
       "182    Male          10   94000       0\n",
       "170    Male           7   84000       0\n",
       "122  Female          15   87600       1\n",
       "19   Female          22   84400       1"
      ]
     },
     "execution_count": 11,
     "metadata": {},
     "output_type": "execute_result"
    }
   ],
   "source": [
    "train['Female']=(train['Gender']=='Female').astype(int) # the last part converts False/True to 0/1\n",
    "train.head()"
   ]
  },
  {
   "cell_type": "markdown",
   "metadata": {},
   "source": [
    "The second is to use the pandas [<TT>get_dummies</TT>](http://pandas.pydata.org/pandas-docs/stable/generated/pandas.get_dummies.html) function to automatically generate dummies, and then add them back to the DataFrame . "
   ]
  },
  {
   "cell_type": "code",
   "execution_count": 12,
   "metadata": {},
   "outputs": [
    {
     "data": {
      "text/html": [
       "<div>\n",
       "<style>\n",
       "    .dataframe thead tr:only-child th {\n",
       "        text-align: right;\n",
       "    }\n",
       "\n",
       "    .dataframe thead th {\n",
       "        text-align: left;\n",
       "    }\n",
       "\n",
       "    .dataframe tbody tr th {\n",
       "        vertical-align: top;\n",
       "    }\n",
       "</style>\n",
       "<table border=\"1\" class=\"dataframe\">\n",
       "  <thead>\n",
       "    <tr style=\"text-align: right;\">\n",
       "      <th></th>\n",
       "      <th>Gender_Male</th>\n",
       "    </tr>\n",
       "  </thead>\n",
       "  <tbody>\n",
       "    <tr>\n",
       "      <th>166</th>\n",
       "      <td>1</td>\n",
       "    </tr>\n",
       "    <tr>\n",
       "      <th>182</th>\n",
       "      <td>1</td>\n",
       "    </tr>\n",
       "    <tr>\n",
       "      <th>170</th>\n",
       "      <td>1</td>\n",
       "    </tr>\n",
       "    <tr>\n",
       "      <th>122</th>\n",
       "      <td>0</td>\n",
       "    </tr>\n",
       "    <tr>\n",
       "      <th>19</th>\n",
       "      <td>0</td>\n",
       "    </tr>\n",
       "  </tbody>\n",
       "</table>\n",
       "</div>"
      ],
      "text/plain": [
       "     Gender_Male\n",
       "166            1\n",
       "182            1\n",
       "170            1\n",
       "122            0\n",
       "19             0"
      ]
     },
     "execution_count": 12,
     "metadata": {},
     "output_type": "execute_result"
    }
   ],
   "source": [
    "dummies = pd.get_dummies(train[['Gender']],  drop_first=True)\n",
    "dummies.head()"
   ]
  },
  {
   "cell_type": "code",
   "execution_count": 13,
   "metadata": {},
   "outputs": [
    {
     "data": {
      "text/html": [
       "<div>\n",
       "<style>\n",
       "    .dataframe thead tr:only-child th {\n",
       "        text-align: right;\n",
       "    }\n",
       "\n",
       "    .dataframe thead th {\n",
       "        text-align: left;\n",
       "    }\n",
       "\n",
       "    .dataframe tbody tr th {\n",
       "        vertical-align: top;\n",
       "    }\n",
       "</style>\n",
       "<table border=\"1\" class=\"dataframe\">\n",
       "  <thead>\n",
       "    <tr style=\"text-align: right;\">\n",
       "      <th></th>\n",
       "      <th>Gender</th>\n",
       "      <th>Experience</th>\n",
       "      <th>Salary</th>\n",
       "      <th>Female</th>\n",
       "      <th>Gender_Male</th>\n",
       "    </tr>\n",
       "  </thead>\n",
       "  <tbody>\n",
       "    <tr>\n",
       "      <th>166</th>\n",
       "      <td>Male</td>\n",
       "      <td>4</td>\n",
       "      <td>83000</td>\n",
       "      <td>0</td>\n",
       "      <td>1</td>\n",
       "    </tr>\n",
       "    <tr>\n",
       "      <th>182</th>\n",
       "      <td>Male</td>\n",
       "      <td>10</td>\n",
       "      <td>94000</td>\n",
       "      <td>0</td>\n",
       "      <td>1</td>\n",
       "    </tr>\n",
       "    <tr>\n",
       "      <th>170</th>\n",
       "      <td>Male</td>\n",
       "      <td>7</td>\n",
       "      <td>84000</td>\n",
       "      <td>0</td>\n",
       "      <td>1</td>\n",
       "    </tr>\n",
       "    <tr>\n",
       "      <th>122</th>\n",
       "      <td>Female</td>\n",
       "      <td>15</td>\n",
       "      <td>87600</td>\n",
       "      <td>1</td>\n",
       "      <td>0</td>\n",
       "    </tr>\n",
       "    <tr>\n",
       "      <th>19</th>\n",
       "      <td>Female</td>\n",
       "      <td>22</td>\n",
       "      <td>84400</td>\n",
       "      <td>1</td>\n",
       "      <td>0</td>\n",
       "    </tr>\n",
       "  </tbody>\n",
       "</table>\n",
       "</div>"
      ],
      "text/plain": [
       "     Gender  Experience  Salary  Female  Gender_Male\n",
       "166    Male           4   83000       0            1\n",
       "182    Male          10   94000       0            1\n",
       "170    Male           7   84000       0            1\n",
       "122  Female          15   87600       1            0\n",
       "19   Female          22   84400       1            0"
      ]
     },
     "execution_count": 13,
     "metadata": {},
     "output_type": "execute_result"
    }
   ],
   "source": [
    "train=train.join(dummies)\n",
    "train.head(5)"
   ]
  },
  {
   "cell_type": "code",
   "execution_count": 14,
   "metadata": {},
   "outputs": [
    {
     "data": {
      "text/html": [
       "<div>\n",
       "<style>\n",
       "    .dataframe thead tr:only-child th {\n",
       "        text-align: right;\n",
       "    }\n",
       "\n",
       "    .dataframe thead th {\n",
       "        text-align: left;\n",
       "    }\n",
       "\n",
       "    .dataframe tbody tr th {\n",
       "        vertical-align: top;\n",
       "    }\n",
       "</style>\n",
       "<table border=\"1\" class=\"dataframe\">\n",
       "  <thead>\n",
       "    <tr style=\"text-align: right;\">\n",
       "      <th></th>\n",
       "      <th>Gender</th>\n",
       "      <th>Experience</th>\n",
       "      <th>Salary</th>\n",
       "      <th>Female</th>\n",
       "      <th>Male</th>\n",
       "    </tr>\n",
       "  </thead>\n",
       "  <tbody>\n",
       "    <tr>\n",
       "      <th>166</th>\n",
       "      <td>Male</td>\n",
       "      <td>4</td>\n",
       "      <td>83000</td>\n",
       "      <td>0</td>\n",
       "      <td>1</td>\n",
       "    </tr>\n",
       "    <tr>\n",
       "      <th>182</th>\n",
       "      <td>Male</td>\n",
       "      <td>10</td>\n",
       "      <td>94000</td>\n",
       "      <td>0</td>\n",
       "      <td>1</td>\n",
       "    </tr>\n",
       "    <tr>\n",
       "      <th>170</th>\n",
       "      <td>Male</td>\n",
       "      <td>7</td>\n",
       "      <td>84000</td>\n",
       "      <td>0</td>\n",
       "      <td>1</td>\n",
       "    </tr>\n",
       "    <tr>\n",
       "      <th>122</th>\n",
       "      <td>Female</td>\n",
       "      <td>15</td>\n",
       "      <td>87600</td>\n",
       "      <td>1</td>\n",
       "      <td>0</td>\n",
       "    </tr>\n",
       "    <tr>\n",
       "      <th>19</th>\n",
       "      <td>Female</td>\n",
       "      <td>22</td>\n",
       "      <td>84400</td>\n",
       "      <td>1</td>\n",
       "      <td>0</td>\n",
       "    </tr>\n",
       "  </tbody>\n",
       "</table>\n",
       "</div>"
      ],
      "text/plain": [
       "     Gender  Experience  Salary  Female  Male\n",
       "166    Male           4   83000       0     1\n",
       "182    Male          10   94000       0     1\n",
       "170    Male           7   84000       0     1\n",
       "122  Female          15   87600       1     0\n",
       "19   Female          22   84400       1     0"
      ]
     },
     "execution_count": 14,
     "metadata": {},
     "output_type": "execute_result"
    }
   ],
   "source": [
    "train = train.rename(columns = {'Gender_Male': 'Male'})\n",
    "train.head()"
   ]
  },
  {
   "cell_type": "markdown",
   "metadata": {},
   "source": [
    "We know however that we should keep only one of these variables. "
   ]
  },
  {
   "cell_type": "code",
   "execution_count": 15,
   "metadata": {
    "collapsed": true
   },
   "outputs": [],
   "source": [
    "train = train.drop('Male', axis=1)"
   ]
  },
  {
   "cell_type": "markdown",
   "metadata": {},
   "source": [
    "Creating other types of variables is easy. We know that salaries tend to increase in percentage terms every year, so that it is plausible that the relationship between salary and experience may be better described as a log-linear relationship. The log transformation may also help to reduce the positive skewness that we found in the EDA. "
   ]
  },
  {
   "cell_type": "code",
   "execution_count": 16,
   "metadata": {
    "collapsed": true
   },
   "outputs": [],
   "source": [
    "train['LogSalary'] = np.log(train['Salary'])"
   ]
  },
  {
   "cell_type": "code",
   "execution_count": 17,
   "metadata": {
    "collapsed": true
   },
   "outputs": [],
   "source": [
    "train['FemaleExp'] = train['Female']*train['Experience']"
   ]
  },
  {
   "cell_type": "markdown",
   "metadata": {},
   "source": [
    "As a last detail, we also to same predictor processing for the test data (it is generally more convenient to create dummy variables before splitting the data). "
   ]
  },
  {
   "cell_type": "code",
   "execution_count": 18,
   "metadata": {
    "collapsed": true
   },
   "outputs": [],
   "source": [
    "test['Female']=(test['Gender']=='Female').astype(int)\n",
    "test['FemaleExp'] = test['Female']*test['Experience']"
   ]
  },
  {
   "cell_type": "markdown",
   "metadata": {},
   "source": [
    "###Linear regression\n",
    "\n",
    "There are several ways to estimate a linear regresssion in Python. In this tutorial, we use the statmodels package, as it generates [more informative](http://www.statsmodels.org/dev/generated/statsmodels.regression.linear_model.OLSResults.html) outputs and results."
   ]
  },
  {
   "cell_type": "code",
   "execution_count": 19,
   "metadata": {},
   "outputs": [
    {
     "name": "stdout",
     "output_type": "stream",
     "text": [
      "                            OLS Regression Results                            \n",
      "==============================================================================\n",
      "Dep. Variable:                 Salary   R-squared:                       0.482\n",
      "Model:                            OLS   Adj. R-squared:                  0.475\n",
      "Method:                 Least Squares   F-statistic:                     66.56\n",
      "Date:                Tue, 15 Aug 2017   Prob (F-statistic):           3.70e-21\n",
      "Time:                        16:06:37   Log-Likelihood:                -1613.7\n",
      "No. Observations:                 146   AIC:                             3233.\n",
      "Df Residuals:                     143   BIC:                             3242.\n",
      "Df Model:                           2                                         \n",
      "Covariance Type:            nonrobust                                         \n",
      "==============================================================================\n",
      "                 coef    std err          t      P>|t|      [0.025      0.975]\n",
      "------------------------------------------------------------------------------\n",
      "Intercept   7.342e+04   3106.548     23.634      0.000    6.73e+04    7.96e+04\n",
      "Female     -2.049e+04   2808.436     -7.294      0.000    -2.6e+04   -1.49e+04\n",
      "Experience  1663.4731    176.847      9.406      0.000    1313.901    2013.046\n",
      "==============================================================================\n",
      "Omnibus:                       16.349   Durbin-Watson:                   2.005\n",
      "Prob(Omnibus):                  0.000   Jarque-Bera (JB):               29.501\n",
      "Skew:                           0.518   Prob(JB):                     3.93e-07\n",
      "Kurtosis:                       4.943   Cond. No.                         41.7\n",
      "==============================================================================\n",
      "\n",
      "Warnings:\n",
      "[1] Standard Errors assume that the covariance matrix of the errors is correctly specified.\n"
     ]
    }
   ],
   "source": [
    "import statsmodels.formula.api as smf\n",
    "\n",
    "formula='Salary ~ Female + Experience'\n",
    "ols = smf.ols(formula=formula, data=train).fit()\n",
    "print(ols.summary())"
   ]
  },
  {
   "cell_type": "markdown",
   "metadata": {},
   "source": [
    "The output is difficult to read because of the scale of the salary variable. Using the formula approach makes it easier to transform variables for purposes of estimating the regression. "
   ]
  },
  {
   "cell_type": "code",
   "execution_count": 20,
   "metadata": {},
   "outputs": [
    {
     "name": "stdout",
     "output_type": "stream",
     "text": [
      "                               OLS Regression Results                              \n",
      "===================================================================================\n",
      "Dep. Variable:     np.divide(Salary, 1000)   R-squared:                       0.482\n",
      "Model:                                 OLS   Adj. R-squared:                  0.475\n",
      "Method:                      Least Squares   F-statistic:                     66.56\n",
      "Date:                     Tue, 15 Aug 2017   Prob (F-statistic):           3.70e-21\n",
      "Time:                             16:06:37   Log-Likelihood:                -605.19\n",
      "No. Observations:                      146   AIC:                             1216.\n",
      "Df Residuals:                          143   BIC:                             1225.\n",
      "Df Model:                                2                                         \n",
      "Covariance Type:                 nonrobust                                         \n",
      "==============================================================================\n",
      "                 coef    std err          t      P>|t|      [0.025      0.975]\n",
      "------------------------------------------------------------------------------\n",
      "Intercept     73.4211      3.107     23.634      0.000      67.280      79.562\n",
      "Female       -20.4852      2.808     -7.294      0.000     -26.037     -14.934\n",
      "Experience     1.6635      0.177      9.406      0.000       1.314       2.013\n",
      "==============================================================================\n",
      "Omnibus:                       16.349   Durbin-Watson:                   2.005\n",
      "Prob(Omnibus):                  0.000   Jarque-Bera (JB):               29.501\n",
      "Skew:                           0.518   Prob(JB):                     3.93e-07\n",
      "Kurtosis:                       4.943   Cond. No.                         41.7\n",
      "==============================================================================\n",
      "\n",
      "Warnings:\n",
      "[1] Standard Errors assume that the covariance matrix of the errors is correctly specified.\n"
     ]
    }
   ],
   "source": [
    "formula='np.divide(Salary, 1000) ~ Female + Experience'\n",
    "ols = smf.ols(formula=formula, data=train).fit()\n",
    "print(ols.summary())"
   ]
  },
  {
   "cell_type": "markdown",
   "metadata": {},
   "source": [
    "If were compare a male and female employee with the same level of experience, we would expect the female employee to earn 20.5K less according to this estimate. The coefficient is statistically significant, so that we can reliably conclude that the female employees have lower salaries on average conditional on experience. \n",
    "\n",
    "Is this model appropriate for the data? We should use residual diagnostics to check. The diagnostic plot below reveals a nonlinear pattern in the residuals, which means that the linear specification is not correct for this data. We should try to improve the model by considering a log transformation (suggested by domain knowledge and EDA) and an interaction term (suggested by EDA). "
   ]
  },
  {
   "cell_type": "code",
   "execution_count": 21,
   "metadata": {},
   "outputs": [
    {
     "data": {
      "image/png": "[encoded data removed]",
      "text/plain": [
       "<matplotlib.figure.Figure at 0x21cf0edae10>"
      ]
     },
     "metadata": {},
     "output_type": "display_data"
    }
   ],
   "source": [
    "fig, ax= plt.subplots()\n",
    "\n",
    "# Note how I am getting the fitted values and residuals from the regression results here\n",
    "# The lowess option fits a nonparametric regression to the scatter plot, allowing us to visualise possible nonlinear patterns\n",
    "\n",
    "sns.regplot(ols.fittedvalues, ols.resid, scatter_kws={'s' : 25}, lowess=True, ax=ax) \n",
    "ax.set_ylabel('Residuals')\n",
    "ax.set_xlabel('Fitted values')\n",
    "sns.despine()\n",
    "plt.show()"
   ]
  },
  {
   "cell_type": "markdown",
   "metadata": {},
   "source": [
    "Interpret the two models below (especially the coefficients for all variables). Are the conclusions the same?"
   ]
  },
  {
   "cell_type": "code",
   "execution_count": 22,
   "metadata": {},
   "outputs": [
    {
     "name": "stdout",
     "output_type": "stream",
     "text": [
      "                            OLS Regression Results                            \n",
      "==============================================================================\n",
      "Dep. Variable:              LogSalary   R-squared:                       0.433\n",
      "Model:                            OLS   Adj. R-squared:                  0.425\n",
      "Method:                 Least Squares   F-statistic:                     54.59\n",
      "Date:                Tue, 15 Aug 2017   Prob (F-statistic):           2.42e-18\n",
      "Time:                        16:06:38   Log-Likelihood:                 49.581\n",
      "No. Observations:                 146   AIC:                            -93.16\n",
      "Df Residuals:                     143   BIC:                            -84.21\n",
      "Df Model:                           2                                         \n",
      "Covariance Type:            nonrobust                                         \n",
      "==============================================================================\n",
      "                 coef    std err          t      P>|t|      [0.025      0.975]\n",
      "------------------------------------------------------------------------------\n",
      "Intercept     11.1971      0.035    319.532      0.000      11.128      11.266\n",
      "Female        -0.2130      0.032     -6.725      0.000      -0.276      -0.150\n",
      "Experience     0.0168      0.002      8.428      0.000       0.013       0.021\n",
      "==============================================================================\n",
      "Omnibus:                        0.252   Durbin-Watson:                   1.990\n",
      "Prob(Omnibus):                  0.881   Jarque-Bera (JB):                0.112\n",
      "Skew:                          -0.065   Prob(JB):                        0.945\n",
      "Kurtosis:                       3.038   Cond. No.                         41.7\n",
      "==============================================================================\n",
      "\n",
      "Warnings:\n",
      "[1] Standard Errors assume that the covariance matrix of the errors is correctly specified.\n"
     ]
    }
   ],
   "source": [
    "formula='LogSalary ~ Female + Experience'\n",
    "ols = smf.ols(formula=formula, data=train).fit()\n",
    "print(ols.summary())"
   ]
  },
  {
   "cell_type": "code",
   "execution_count": 23,
   "metadata": {},
   "outputs": [
    {
     "name": "stdout",
     "output_type": "stream",
     "text": [
      "                            OLS Regression Results                            \n",
      "==============================================================================\n",
      "Dep. Variable:              LogSalary   R-squared:                       0.513\n",
      "Model:                            OLS   Adj. R-squared:                  0.502\n",
      "Method:                 Least Squares   F-statistic:                     49.79\n",
      "Date:                Tue, 15 Aug 2017   Prob (F-statistic):           4.75e-22\n",
      "Time:                        16:06:38   Log-Likelihood:                 60.635\n",
      "No. Observations:                 146   AIC:                            -113.3\n",
      "Df Residuals:                     142   BIC:                            -101.3\n",
      "Df Model:                           3                                         \n",
      "Covariance Type:            nonrobust                                         \n",
      "==============================================================================\n",
      "                 coef    std err          t      P>|t|      [0.025      0.975]\n",
      "------------------------------------------------------------------------------\n",
      "Intercept     11.0870      0.040    278.523      0.000      11.008      11.166\n",
      "Female         0.0013      0.053      0.025      0.980      -0.104       0.107\n",
      "Experience     0.0264      0.003      9.700      0.000       0.021       0.032\n",
      "FemaleExp     -0.0179      0.004     -4.818      0.000      -0.025      -0.011\n",
      "==============================================================================\n",
      "Omnibus:                        0.068   Durbin-Watson:                   1.891\n",
      "Prob(Omnibus):                  0.967   Jarque-Bera (JB):                0.143\n",
      "Skew:                           0.050   Prob(JB):                        0.931\n",
      "Kurtosis:                       2.883   Cond. No.                         82.8\n",
      "==============================================================================\n",
      "\n",
      "Warnings:\n",
      "[1] Standard Errors assume that the covariance matrix of the errors is correctly specified.\n"
     ]
    }
   ],
   "source": [
    "formula='LogSalary ~ Female + Experience + FemaleExp'\n",
    "ols = smf.ols(formula=formula, data=train).fit()\n",
    "print(ols.summary())"
   ]
  },
  {
   "cell_type": "markdown",
   "metadata": {},
   "source": [
    "We would have achieved the same result by using the formula below, which would not require creating the log and interaction variables beforehand. The need for creating new variables depends on the context. "
   ]
  },
  {
   "cell_type": "code",
   "execution_count": 24,
   "metadata": {
    "collapsed": true
   },
   "outputs": [],
   "source": [
    "formula='np.log(Salary) ~ Female + Experience + Female:Experience'"
   ]
  },
  {
   "cell_type": "markdown",
   "metadata": {},
   "source": [
    "We can check the this last specification improves the residuals."
   ]
  },
  {
   "cell_type": "code",
   "execution_count": 25,
   "metadata": {},
   "outputs": [
    {
     "data": {
      "image/png": "[encoded data removed]",
      "text/plain": [
       "<matplotlib.figure.Figure at 0x21cf0f6e7b8>"
      ]
     },
     "metadata": {},
     "output_type": "display_data"
    }
   ],
   "source": [
    "fig, ax= plt.subplots()\n",
    "sns.regplot(ols.fittedvalues, ols.resid, scatter_kws={'s' : 25}, lowess=True, ax=ax)\n",
    "ax.set_ylabel('Residuals')\n",
    "ax.set_xlabel('Fitted values')\n",
    "sns.despine()\n",
    "plt.show()"
   ]
  },
  {
   "cell_type": "markdown",
   "metadata": {},
   "source": [
    "##Predictions"
   ]
  },
  {
   "cell_type": "markdown",
   "metadata": {},
   "source": [
    "We now compare different specifications on the test data. Note that for the models with a log transformed response, we should use an appropriate retransformation and adjustment when computing the predictions for salary. \n",
    "\n",
    "We should be careful with our analysis since there are only a few test cases. Here are some tentative conclusions. \n",
    "\n",
    "* The specifications with the interaction term predict better than the ones without.\n",
    "\n",
    "\n",
    "* When comparing the two specifications without interaction, the model with a log transformation seems to perform better. \n",
    "\n",
    "\n",
    "* When comparing the two specifications with the interaction term, the log model may have slightly better predictive ability.\n",
    "\n",
    "\n",
    "* The adjustment for retransformation is small, and does not make much difference in performance for this exmaplii."
   ]
  },
  {
   "cell_type": "code",
   "execution_count": 26,
   "metadata": {},
   "outputs": [
    {
     "name": "stdout",
     "output_type": "stream",
     "text": [
      "[ 20152.31  18898.08  19359.7   19443.38  18303.27  18246.2 ]\n",
      "\n",
      "\n",
      "[ 0.354  0.432  0.404  0.399  0.467  0.47 ]\n"
     ]
    }
   ],
   "source": [
    "from sklearn.metrics import mean_squared_error\n",
    "from sklearn.metrics import r2_score\n",
    "\n",
    "rmse=[]\n",
    "r2=[]\n",
    "\n",
    "# Model 1\n",
    "formula='Salary ~ Female + Experience'\n",
    "ols = smf.ols(formula=formula, data=train).fit()\n",
    "predictions = ols.predict(test) # no need to select the predictors in this case \n",
    "rmse.append(np.sqrt(mean_squared_error(test['Salary'], predictions)))\n",
    "r2.append(r2_score(test['Salary'], predictions))\n",
    "\n",
    "# Model 2\n",
    "formula='Salary ~ Female + Experience + Experience:Female'\n",
    "ols = smf.ols(formula=formula, data=train).fit()\n",
    "predictions = ols.predict(test)\n",
    "rmse.append(np.sqrt(mean_squared_error(test['Salary'], predictions)))\n",
    "r2.append(r2_score(test['Salary'], predictions))\n",
    "\n",
    "# Model 3\n",
    "formula='np.log(Salary) ~ Female + Experience'\n",
    "ols = smf.ols(formula=formula, data=train).fit()\n",
    "predictions = np.exp(ols.predict(test))*np.mean(np.exp(ols.resid))\n",
    "rmse.append(np.sqrt(mean_squared_error(test['Salary'], predictions)))\n",
    "r2.append(r2_score(test['Salary'], predictions))\n",
    "\n",
    "# Without adjustment for the retransformation, for comparison\n",
    "predictions = np.exp(ols.predict(test))\n",
    "rmse.append(np.sqrt(mean_squared_error(test['Salary'], predictions)))\n",
    "r2.append(r2_score(test['Salary'], predictions))\n",
    "\n",
    "# Model 4\n",
    "formula='np.log(Salary) ~ Female + Experience + Experience:Female'\n",
    "ols= smf.ols(formula=formula, data=train).fit()\n",
    "predictions = np.exp(ols.predict(test))*np.mean(np.exp(ols.resid))\n",
    "rmse.append(np.sqrt(mean_squared_error(test['Salary'], predictions)))\n",
    "r2.append(r2_score(test['Salary'], predictions))\n",
    "\n",
    "# Without adjustment for the retransformation, for comparison\n",
    "predictions = np.exp(ols.predict(test))\n",
    "rmse.append(np.sqrt(mean_squared_error(test['Salary'], predictions)))\n",
    "r2.append(r2_score(test['Salary'], predictions))\n",
    "\n",
    "print(np.array(rmse).round(2))\n",
    "print('\\n')\n",
    "print(np.array(r2).round(3))"
   ]
  },
  {
   "cell_type": "code",
   "execution_count": 27,
   "metadata": {},
   "outputs": [
    {
     "data": {
      "text/plain": [
       "1.013"
      ]
     },
     "execution_count": 27,
     "metadata": {},
     "output_type": "execute_result"
    }
   ],
   "source": [
    "round(np.mean(np.exp(ols.resid)),3)"
   ]
  },
  {
   "cell_type": "markdown",
   "metadata": {},
   "source": [
    "##Question for reflection\n",
    "\n",
    "Does this analysis allows us to conclude that there is gender discrimination in the company? Why or why not? You can post your answer on Ed for discussion and feedback.\n",
    "\n"
   ]
  }
 ],
 "metadata": {
  "kernelspec": {
   "display_name": "Python 3",
   "language": "python",
   "name": "python3"
  },
  "language_info": {
   "codemirror_mode": {
    "name": "ipython",
    "version": 3
   },
   "file_extension": ".py",
   "mimetype": "text/x-python",
   "name": "python",
   "nbconvert_exporter": "python",
   "pygments_lexer": "ipython3",
   "version": "3.6.2"
  }
 },
 "nbformat": 4,
 "nbformat_minor": 2
}
