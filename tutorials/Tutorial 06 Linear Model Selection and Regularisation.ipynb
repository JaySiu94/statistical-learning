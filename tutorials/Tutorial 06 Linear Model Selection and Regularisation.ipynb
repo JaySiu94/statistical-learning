{
 "cells": [
  {
   "cell_type": "markdown",
   "metadata": {},
   "source": [
    "<center><img src=\"http://sydney.edu.au/images/content/about/logo-mono.jpg\"></center>\n",
    "\n",
    "<center><h1>Statistical Learning and Data Mining (QBUS6810)</h1></center>\n",
    "<center><h2>Tutorial 6: Linear Model Selection and Regularisation</h2></center>\n",
    "<br>\n",
    "\n",
    "In this tutorial we will study how to implement variable selection, regularisation, and dimension reduction methods for linear regression in Python. Some of the code required is in the <TT>statlearning.py</TT> module, which you should have in the same folder as you are running Jupyter from. \n",
    "\n",
    "<a class=\"buttom\" href=\"#Data\">Data</a> <br>\n",
    "<a class=\"buttom\" href=\"#Exploratory-data-analysis\">Exploratory data analysis</a> <br>\n",
    "<a class=\"buttom\" href=\"#Standardising-the-predictors\">Standardising the predictors</a> <br>\n",
    "<a class=\"buttom\" href=\"#OLS\">OLS</a> <br>\n",
    "<a class=\"buttom\" href=\"#Variable-selection\">Variable selection</a> <br>\n",
    "<a class=\"buttom\" href=\"#Regularisation-methods\">Regularisation methods</a> <br>\n",
    "<a class=\"buttom\" href=\"#Dimension-reduction-methods\">Dimension reduction methods</a> <br>\n",
    "<a class=\"buttom\" href=\"#Cross-validation-results\">Cross validation results</a> <br>\n",
    "<a class=\"buttom\" href=\"#Test-results\">Test results</a> <br>\n",
    "\n",
    "\n",
    "This notebook relies on the following imports and settings."
   ]
  },
  {
   "cell_type": "code",
   "execution_count": 1,
   "metadata": {
    "collapsed": true
   },
   "outputs": [],
   "source": [
    "import pandas as pd\n",
    "import numpy as np\n",
    "import matplotlib.pyplot as plt\n",
    "import seaborn as sns\n",
    "import statsmodels.formula.api as smf\n",
    "import warnings\n",
    "warnings.filterwarnings('ignore')\n",
    "%matplotlib inline\n",
    "sns.set_context('notebook') \n",
    "sns.set_style('ticks')"
   ]
  },
  {
   "cell_type": "markdown",
   "metadata": {},
   "source": [
    "###Data\n",
    "\n",
    "Our analysis will be based on a customer acquisition and profitability dataset.  "
   ]
  },
  {
   "cell_type": "code",
   "execution_count": 2,
   "metadata": {},
   "outputs": [
    {
     "data": {
      "text/html": [
       "<div>\n",
       "<style>\n",
       "    .dataframe thead tr:only-child th {\n",
       "        text-align: right;\n",
       "    }\n",
       "\n",
       "    .dataframe thead th {\n",
       "        text-align: left;\n",
       "    }\n",
       "\n",
       "    .dataframe tbody tr th {\n",
       "        vertical-align: top;\n",
       "    }\n",
       "</style>\n",
       "<table border=\"1\" class=\"dataframe\">\n",
       "  <thead>\n",
       "    <tr style=\"text-align: right;\">\n",
       "      <th></th>\n",
       "      <th>Acquisition</th>\n",
       "      <th>First_Purchase</th>\n",
       "      <th>CLV</th>\n",
       "      <th>Duration</th>\n",
       "      <th>Censor</th>\n",
       "      <th>Acq_Expense</th>\n",
       "      <th>Acq_Expense_SQ</th>\n",
       "      <th>Industry</th>\n",
       "      <th>Revenue</th>\n",
       "      <th>Employees</th>\n",
       "      <th>Ret_Expense</th>\n",
       "      <th>Ret_Expense_SQ</th>\n",
       "      <th>Crossbuy</th>\n",
       "      <th>Frequency</th>\n",
       "      <th>Frequency_SQ</th>\n",
       "    </tr>\n",
       "    <tr>\n",
       "      <th>Customer</th>\n",
       "      <th></th>\n",
       "      <th></th>\n",
       "      <th></th>\n",
       "      <th></th>\n",
       "      <th></th>\n",
       "      <th></th>\n",
       "      <th></th>\n",
       "      <th></th>\n",
       "      <th></th>\n",
       "      <th></th>\n",
       "      <th></th>\n",
       "      <th></th>\n",
       "      <th></th>\n",
       "      <th></th>\n",
       "      <th></th>\n",
       "    </tr>\n",
       "  </thead>\n",
       "  <tbody>\n",
       "    <tr>\n",
       "      <th>1</th>\n",
       "      <td>1</td>\n",
       "      <td>433.64</td>\n",
       "      <td>0.0000</td>\n",
       "      <td>384</td>\n",
       "      <td>0</td>\n",
       "      <td>760.36</td>\n",
       "      <td>578147.33</td>\n",
       "      <td>1</td>\n",
       "      <td>30.16</td>\n",
       "      <td>1240</td>\n",
       "      <td>2309.79</td>\n",
       "      <td>5335129.84</td>\n",
       "      <td>5</td>\n",
       "      <td>2</td>\n",
       "      <td>4</td>\n",
       "    </tr>\n",
       "    <tr>\n",
       "      <th>2</th>\n",
       "      <td>0</td>\n",
       "      <td>0.00</td>\n",
       "      <td>0.0000</td>\n",
       "      <td>0</td>\n",
       "      <td>0</td>\n",
       "      <td>147.70</td>\n",
       "      <td>21815.29</td>\n",
       "      <td>1</td>\n",
       "      <td>39.80</td>\n",
       "      <td>166</td>\n",
       "      <td>0.00</td>\n",
       "      <td>0.00</td>\n",
       "      <td>0</td>\n",
       "      <td>0</td>\n",
       "      <td>0</td>\n",
       "    </tr>\n",
       "    <tr>\n",
       "      <th>3</th>\n",
       "      <td>0</td>\n",
       "      <td>0.00</td>\n",
       "      <td>0.0000</td>\n",
       "      <td>0</td>\n",
       "      <td>0</td>\n",
       "      <td>252.56</td>\n",
       "      <td>63786.55</td>\n",
       "      <td>1</td>\n",
       "      <td>54.93</td>\n",
       "      <td>1016</td>\n",
       "      <td>0.00</td>\n",
       "      <td>0.00</td>\n",
       "      <td>0</td>\n",
       "      <td>0</td>\n",
       "      <td>0</td>\n",
       "    </tr>\n",
       "    <tr>\n",
       "      <th>4</th>\n",
       "      <td>1</td>\n",
       "      <td>225.84</td>\n",
       "      <td>5.7316</td>\n",
       "      <td>730</td>\n",
       "      <td>1</td>\n",
       "      <td>609.73</td>\n",
       "      <td>371770.67</td>\n",
       "      <td>1</td>\n",
       "      <td>45.83</td>\n",
       "      <td>122</td>\n",
       "      <td>2192.59</td>\n",
       "      <td>4807450.91</td>\n",
       "      <td>2</td>\n",
       "      <td>12</td>\n",
       "      <td>144</td>\n",
       "    </tr>\n",
       "    <tr>\n",
       "      <th>5</th>\n",
       "      <td>1</td>\n",
       "      <td>363.04</td>\n",
       "      <td>0.0000</td>\n",
       "      <td>579</td>\n",
       "      <td>0</td>\n",
       "      <td>672.36</td>\n",
       "      <td>452067.97</td>\n",
       "      <td>1</td>\n",
       "      <td>69.03</td>\n",
       "      <td>313</td>\n",
       "      <td>801.14</td>\n",
       "      <td>641825.30</td>\n",
       "      <td>4</td>\n",
       "      <td>7</td>\n",
       "      <td>49</td>\n",
       "    </tr>\n",
       "  </tbody>\n",
       "</table>\n",
       "</div>"
      ],
      "text/plain": [
       "          Acquisition  First_Purchase     CLV  Duration  Censor  Acq_Expense  \\\n",
       "Customer                                                                       \n",
       "1                   1          433.64  0.0000       384       0       760.36   \n",
       "2                   0            0.00  0.0000         0       0       147.70   \n",
       "3                   0            0.00  0.0000         0       0       252.56   \n",
       "4                   1          225.84  5.7316       730       1       609.73   \n",
       "5                   1          363.04  0.0000       579       0       672.36   \n",
       "\n",
       "          Acq_Expense_SQ  Industry  Revenue  Employees  Ret_Expense  \\\n",
       "Customer                                                              \n",
       "1              578147.33         1    30.16       1240      2309.79   \n",
       "2               21815.29         1    39.80        166         0.00   \n",
       "3               63786.55         1    54.93       1016         0.00   \n",
       "4              371770.67         1    45.83        122      2192.59   \n",
       "5              452067.97         1    69.03        313       801.14   \n",
       "\n",
       "          Ret_Expense_SQ  Crossbuy  Frequency  Frequency_SQ  \n",
       "Customer                                                     \n",
       "1             5335129.84         5          2             4  \n",
       "2                   0.00         0          0             0  \n",
       "3                   0.00         0          0             0  \n",
       "4             4807450.91         2         12           144  \n",
       "5              641825.30         4          7            49  "
      ]
     },
     "execution_count": 2,
     "metadata": {},
     "output_type": "execute_result"
    }
   ],
   "source": [
    "data = pd.read_excel('CustomerAcquisition.xls', index_col=[0])\n",
    "data.head()"
   ]
  },
  {
   "cell_type": "markdown",
   "metadata": {},
   "source": [
    "The objective of this type of analysis is to predict the profitability of a customer, which involves both classification and regression tasks. We apply classification methods to predict whether a customer will be acquired and retained, and regression methods to estimate the profitability of acquired and retained customer.  Here, we focus on this regression task. A more complete model can include all parts of the customer cycle. \n",
    "\n",
    "The response variable for this tutorial is the customer lifetime value (CLV, a measure of profitability) of customers who were acquired and remained as customers by the end of the observation window (730 days). These customers are identified with a value of one for the <TT>Censor</TT> variable."
   ]
  },
  {
   "cell_type": "code",
   "execution_count": 3,
   "metadata": {
    "collapsed": true
   },
   "outputs": [],
   "source": [
    "data = data[data['Censor']==1]"
   ]
  },
  {
   "cell_type": "markdown",
   "metadata": {},
   "source": [
    "The predictors are the value of the first purchase, dollars spent on marketing expenses for acquiring and retaining the customer, industry, revenue and number of employees of the customer, the number of product categories the customer purchased, and the number of times the customer purchased during the observation window.\n",
    "\n",
    "It is important to recognise that linear model selection and regularisation methods only tend to lead to substantial improvements in performance over OLS in relatively complex settings (or with small sample sizes). For example, if you try Exercises 8 and 9 in Chapter 6 of ISL (the main data problems from the chapter), you will find no predictive gain from using the methods from the same part of the book, which can be disappointing.  \n",
    "\n",
    "Here, for illustrative purposes, we engineer a situation in which OLS will overfit by adding several plausible interaction and polynomial terms to the analysis. However, keep in mind that in practical settings you should not add regressors to a model indiscriminately, and rely instead on EDA and model building to avoid overfitting. All methods are subject to deterioration in performance from irrelevant predictors. "
   ]
  },
  {
   "cell_type": "code",
   "execution_count": 4,
   "metadata": {
    "collapsed": true
   },
   "outputs": [],
   "source": [
    "data=pd.get_dummies(data, columns=['Crossbuy'], drop_first=True)\n",
    "data['I1'] = data['First_Purchase']*data['Industry']\n",
    "data['I2'] = data['Acq_Expense']*data['Industry']\n",
    "data['I3'] = data['Acq_Expense_SQ']*data['Industry']\n",
    "data['I4'] = data['Employees']*data['Industry']\n",
    "data['I5'] = data['Ret_Expense']*data['Industry']\n",
    "data['I6'] = data['Ret_Expense_SQ']*data['Industry']\n",
    "data['I7'] = data['Revenue']*data['Industry']\n",
    "data['I8'] = data['Frequency']*data['Industry']\n",
    "data['First_Purchase_SQ']=data['First_Purchase']**2\n",
    "data['First_Purchase_CB']=data['First_Purchase']**3\n",
    "data['Employees_SQ']=data['Employees']**2\n",
    "data['Employees_CB']=data['Employees']**3\n",
    "data['Ret_Expense_CB']=data['Ret_Expense']**3"
   ]
  },
  {
   "cell_type": "markdown",
   "metadata": {},
   "source": [
    "Below, we record the name of the response and predictor variables for subsequent use. This is efficient since most of the code is completely automated from here onwards, allowing us to fastly implement the same type of analysis for different data. "
   ]
  },
  {
   "cell_type": "code",
   "execution_count": 5,
   "metadata": {},
   "outputs": [
    {
     "data": {
      "text/html": [
       "<div>\n",
       "<style>\n",
       "    .dataframe thead tr:only-child th {\n",
       "        text-align: right;\n",
       "    }\n",
       "\n",
       "    .dataframe thead th {\n",
       "        text-align: left;\n",
       "    }\n",
       "\n",
       "    .dataframe tbody tr th {\n",
       "        vertical-align: top;\n",
       "    }\n",
       "</style>\n",
       "<table border=\"1\" class=\"dataframe\">\n",
       "  <thead>\n",
       "    <tr style=\"text-align: right;\">\n",
       "      <th></th>\n",
       "      <th>CLV</th>\n",
       "      <th>First_Purchase</th>\n",
       "      <th>Acq_Expense</th>\n",
       "      <th>Acq_Expense_SQ</th>\n",
       "      <th>Industry</th>\n",
       "      <th>Revenue</th>\n",
       "      <th>Employees</th>\n",
       "      <th>Ret_Expense</th>\n",
       "      <th>Ret_Expense_SQ</th>\n",
       "      <th>Frequency</th>\n",
       "      <th>...</th>\n",
       "      <th>I4</th>\n",
       "      <th>I5</th>\n",
       "      <th>I6</th>\n",
       "      <th>I7</th>\n",
       "      <th>I8</th>\n",
       "      <th>First_Purchase_SQ</th>\n",
       "      <th>First_Purchase_CB</th>\n",
       "      <th>Employees_SQ</th>\n",
       "      <th>Employees_CB</th>\n",
       "      <th>Ret_Expense_CB</th>\n",
       "    </tr>\n",
       "    <tr>\n",
       "      <th>Customer</th>\n",
       "      <th></th>\n",
       "      <th></th>\n",
       "      <th></th>\n",
       "      <th></th>\n",
       "      <th></th>\n",
       "      <th></th>\n",
       "      <th></th>\n",
       "      <th></th>\n",
       "      <th></th>\n",
       "      <th></th>\n",
       "      <th></th>\n",
       "      <th></th>\n",
       "      <th></th>\n",
       "      <th></th>\n",
       "      <th></th>\n",
       "      <th></th>\n",
       "      <th></th>\n",
       "      <th></th>\n",
       "      <th></th>\n",
       "      <th></th>\n",
       "      <th></th>\n",
       "    </tr>\n",
       "  </thead>\n",
       "  <tbody>\n",
       "    <tr>\n",
       "      <th>4</th>\n",
       "      <td>5.7316</td>\n",
       "      <td>225.84</td>\n",
       "      <td>609.73</td>\n",
       "      <td>371770.67</td>\n",
       "      <td>1</td>\n",
       "      <td>45.83</td>\n",
       "      <td>122</td>\n",
       "      <td>2192.59</td>\n",
       "      <td>4807450.91</td>\n",
       "      <td>12</td>\n",
       "      <td>...</td>\n",
       "      <td>122</td>\n",
       "      <td>2192.59</td>\n",
       "      <td>4807450.91</td>\n",
       "      <td>45.83</td>\n",
       "      <td>12</td>\n",
       "      <td>51003.7056</td>\n",
       "      <td>1.151868e+07</td>\n",
       "      <td>14884</td>\n",
       "      <td>1815848</td>\n",
       "      <td>1.054077e+10</td>\n",
       "    </tr>\n",
       "    <tr>\n",
       "      <th>9</th>\n",
       "      <td>6.9161</td>\n",
       "      <td>599.30</td>\n",
       "      <td>452.35</td>\n",
       "      <td>204620.52</td>\n",
       "      <td>1</td>\n",
       "      <td>17.98</td>\n",
       "      <td>1782</td>\n",
       "      <td>1340.75</td>\n",
       "      <td>1797610.56</td>\n",
       "      <td>11</td>\n",
       "      <td>...</td>\n",
       "      <td>1782</td>\n",
       "      <td>1340.75</td>\n",
       "      <td>1797610.56</td>\n",
       "      <td>17.98</td>\n",
       "      <td>11</td>\n",
       "      <td>359160.4900</td>\n",
       "      <td>2.152449e+08</td>\n",
       "      <td>3175524</td>\n",
       "      <td>5658783768</td>\n",
       "      <td>2.410146e+09</td>\n",
       "    </tr>\n",
       "    <tr>\n",
       "      <th>10</th>\n",
       "      <td>6.0839</td>\n",
       "      <td>271.18</td>\n",
       "      <td>786.72</td>\n",
       "      <td>618928.36</td>\n",
       "      <td>1</td>\n",
       "      <td>38.91</td>\n",
       "      <td>539</td>\n",
       "      <td>2265.93</td>\n",
       "      <td>5134438.76</td>\n",
       "      <td>14</td>\n",
       "      <td>...</td>\n",
       "      <td>539</td>\n",
       "      <td>2265.93</td>\n",
       "      <td>5134438.76</td>\n",
       "      <td>38.91</td>\n",
       "      <td>14</td>\n",
       "      <td>73538.5924</td>\n",
       "      <td>1.994220e+07</td>\n",
       "      <td>290521</td>\n",
       "      <td>156590819</td>\n",
       "      <td>1.163428e+10</td>\n",
       "    </tr>\n",
       "    <tr>\n",
       "      <th>14</th>\n",
       "      <td>8.7544</td>\n",
       "      <td>678.06</td>\n",
       "      <td>472.13</td>\n",
       "      <td>222906.74</td>\n",
       "      <td>0</td>\n",
       "      <td>58.91</td>\n",
       "      <td>1507</td>\n",
       "      <td>2430.31</td>\n",
       "      <td>5906406.70</td>\n",
       "      <td>2</td>\n",
       "      <td>...</td>\n",
       "      <td>0</td>\n",
       "      <td>0.00</td>\n",
       "      <td>0.00</td>\n",
       "      <td>0.00</td>\n",
       "      <td>0</td>\n",
       "      <td>459765.3636</td>\n",
       "      <td>3.117485e+08</td>\n",
       "      <td>2271049</td>\n",
       "      <td>3422470843</td>\n",
       "      <td>1.435440e+10</td>\n",
       "    </tr>\n",
       "    <tr>\n",
       "      <th>16</th>\n",
       "      <td>6.5147</td>\n",
       "      <td>178.28</td>\n",
       "      <td>610.91</td>\n",
       "      <td>373211.03</td>\n",
       "      <td>1</td>\n",
       "      <td>33.78</td>\n",
       "      <td>41</td>\n",
       "      <td>2071.53</td>\n",
       "      <td>4291236.54</td>\n",
       "      <td>8</td>\n",
       "      <td>...</td>\n",
       "      <td>41</td>\n",
       "      <td>2071.53</td>\n",
       "      <td>4291236.54</td>\n",
       "      <td>33.78</td>\n",
       "      <td>8</td>\n",
       "      <td>31783.7584</td>\n",
       "      <td>5.666408e+06</td>\n",
       "      <td>1681</td>\n",
       "      <td>68921</td>\n",
       "      <td>8.889425e+09</td>\n",
       "    </tr>\n",
       "  </tbody>\n",
       "</table>\n",
       "<p>5 rows × 29 columns</p>\n",
       "</div>"
      ],
      "text/plain": [
       "             CLV  First_Purchase  Acq_Expense  Acq_Expense_SQ  Industry  \\\n",
       "Customer                                                                  \n",
       "4         5.7316          225.84       609.73       371770.67         1   \n",
       "9         6.9161          599.30       452.35       204620.52         1   \n",
       "10        6.0839          271.18       786.72       618928.36         1   \n",
       "14        8.7544          678.06       472.13       222906.74         0   \n",
       "16        6.5147          178.28       610.91       373211.03         1   \n",
       "\n",
       "          Revenue  Employees  Ret_Expense  Ret_Expense_SQ  Frequency  \\\n",
       "Customer                                                               \n",
       "4           45.83        122      2192.59      4807450.91         12   \n",
       "9           17.98       1782      1340.75      1797610.56         11   \n",
       "10          38.91        539      2265.93      5134438.76         14   \n",
       "14          58.91       1507      2430.31      5906406.70          2   \n",
       "16          33.78         41      2071.53      4291236.54          8   \n",
       "\n",
       "               ...          I4       I5          I6     I7  I8  \\\n",
       "Customer       ...                                               \n",
       "4              ...         122  2192.59  4807450.91  45.83  12   \n",
       "9              ...        1782  1340.75  1797610.56  17.98  11   \n",
       "10             ...         539  2265.93  5134438.76  38.91  14   \n",
       "14             ...           0     0.00        0.00   0.00   0   \n",
       "16             ...          41  2071.53  4291236.54  33.78   8   \n",
       "\n",
       "          First_Purchase_SQ  First_Purchase_CB  Employees_SQ  Employees_CB  \\\n",
       "Customer                                                                     \n",
       "4                51003.7056       1.151868e+07         14884       1815848   \n",
       "9               359160.4900       2.152449e+08       3175524    5658783768   \n",
       "10               73538.5924       1.994220e+07        290521     156590819   \n",
       "14              459765.3636       3.117485e+08       2271049    3422470843   \n",
       "16               31783.7584       5.666408e+06          1681         68921   \n",
       "\n",
       "          Ret_Expense_CB  \n",
       "Customer                  \n",
       "4           1.054077e+10  \n",
       "9           2.410146e+09  \n",
       "10          1.163428e+10  \n",
       "14          1.435440e+10  \n",
       "16          8.889425e+09  \n",
       "\n",
       "[5 rows x 29 columns]"
      ]
     },
     "execution_count": 5,
     "metadata": {},
     "output_type": "execute_result"
    }
   ],
   "source": [
    "response = ['CLV']\n",
    "exclude = response + ['Acquisition', 'Duration', 'Censor'] # list of variables which are NOT predictors\n",
    "predictors=[x for x in list(data.columns) if x not in exclude] # building a list a predictors\n",
    "data=data[response+predictors] # excluding variables which we are not going to use\n",
    "data.head()"
   ]
  },
  {
   "cell_type": "markdown",
   "metadata": {},
   "source": [
    "We are ready to split the data into training and test sets. "
   ]
  },
  {
   "cell_type": "code",
   "execution_count": 6,
   "metadata": {
    "collapsed": true
   },
   "outputs": [],
   "source": [
    "train = data.sample(frac=0.5, random_state=1)\n",
    "test = data[data.index.isin(train.index)==False].copy()"
   ]
  },
  {
   "cell_type": "markdown",
   "metadata": {},
   "source": [
    "###Exploratory Data Analysis\n",
    "\n",
    "It is helpful to gain some insight on the predictors by computing their correlations with the response. "
   ]
  },
  {
   "cell_type": "code",
   "execution_count": 7,
   "metadata": {},
   "outputs": [
    {
     "data": {
      "text/html": [
       "<div>\n",
       "<style>\n",
       "    .dataframe thead tr:only-child th {\n",
       "        text-align: right;\n",
       "    }\n",
       "\n",
       "    .dataframe thead th {\n",
       "        text-align: left;\n",
       "    }\n",
       "\n",
       "    .dataframe tbody tr th {\n",
       "        vertical-align: top;\n",
       "    }\n",
       "</style>\n",
       "<table border=\"1\" class=\"dataframe\">\n",
       "  <thead>\n",
       "    <tr style=\"text-align: right;\">\n",
       "      <th></th>\n",
       "      <th>CLV</th>\n",
       "      <th>Employees</th>\n",
       "      <th>First_Purchase</th>\n",
       "      <th>First_Purchase_SQ</th>\n",
       "      <th>Employees_SQ</th>\n",
       "      <th>First_Purchase_CB</th>\n",
       "      <th>Employees_CB</th>\n",
       "      <th>I4</th>\n",
       "      <th>I6</th>\n",
       "      <th>Ret_Expense</th>\n",
       "      <th>I1</th>\n",
       "      <th>I5</th>\n",
       "      <th>Ret_Expense_SQ</th>\n",
       "      <th>Ret_Expense_CB</th>\n",
       "      <th>Crossbuy_6</th>\n",
       "      <th>I7</th>\n",
       "      <th>Revenue</th>\n",
       "      <th>I8</th>\n",
       "      <th>Industry</th>\n",
       "      <th>I2</th>\n",
       "      <th>Crossbuy_5</th>\n",
       "      <th>Crossbuy_4</th>\n",
       "      <th>I3</th>\n",
       "      <th>Frequency</th>\n",
       "      <th>Crossbuy_3</th>\n",
       "      <th>Frequency_SQ</th>\n",
       "      <th>Crossbuy_2</th>\n",
       "      <th>Acq_Expense_SQ</th>\n",
       "      <th>Acq_Expense</th>\n",
       "    </tr>\n",
       "  </thead>\n",
       "  <tbody>\n",
       "    <tr>\n",
       "      <th>CLV</th>\n",
       "      <td>1.0</td>\n",
       "      <td>0.544</td>\n",
       "      <td>0.539</td>\n",
       "      <td>0.511</td>\n",
       "      <td>0.499</td>\n",
       "      <td>0.477</td>\n",
       "      <td>0.446</td>\n",
       "      <td>0.426</td>\n",
       "      <td>0.403</td>\n",
       "      <td>0.398</td>\n",
       "      <td>0.38</td>\n",
       "      <td>0.373</td>\n",
       "      <td>0.358</td>\n",
       "      <td>0.321</td>\n",
       "      <td>0.285</td>\n",
       "      <td>0.282</td>\n",
       "      <td>0.2</td>\n",
       "      <td>0.177</td>\n",
       "      <td>0.176</td>\n",
       "      <td>0.091</td>\n",
       "      <td>0.086</td>\n",
       "      <td>0.061</td>\n",
       "      <td>0.022</td>\n",
       "      <td>-0.025</td>\n",
       "      <td>-0.035</td>\n",
       "      <td>-0.058</td>\n",
       "      <td>-0.172</td>\n",
       "      <td>-0.297</td>\n",
       "      <td>-0.297</td>\n",
       "    </tr>\n",
       "  </tbody>\n",
       "</table>\n",
       "</div>"
      ],
      "text/plain": [
       "     CLV  Employees  First_Purchase  First_Purchase_SQ  Employees_SQ  \\\n",
       "CLV  1.0      0.544           0.539              0.511         0.499   \n",
       "\n",
       "     First_Purchase_CB  Employees_CB     I4     I6  Ret_Expense    I1     I5  \\\n",
       "CLV              0.477         0.446  0.426  0.403        0.398  0.38  0.373   \n",
       "\n",
       "     Ret_Expense_SQ  Ret_Expense_CB  Crossbuy_6     I7  Revenue     I8  \\\n",
       "CLV           0.358           0.321       0.285  0.282      0.2  0.177   \n",
       "\n",
       "     Industry     I2  Crossbuy_5  Crossbuy_4     I3  Frequency  Crossbuy_3  \\\n",
       "CLV     0.176  0.091       0.086       0.061  0.022     -0.025      -0.035   \n",
       "\n",
       "     Frequency_SQ  Crossbuy_2  Acq_Expense_SQ  Acq_Expense  \n",
       "CLV        -0.058      -0.172          -0.297       -0.297  "
      ]
     },
     "execution_count": 7,
     "metadata": {},
     "output_type": "execute_result"
    }
   ],
   "source": [
    "pd.set_option('display.max_columns', 30)\n",
    "pd.DataFrame(train[response+predictors].corr().iloc[0,:]).sort_values(by='CLV', ascending=False).round(3).T"
   ]
  },
  {
   "cell_type": "markdown",
   "metadata": {},
   "source": [
    "By plotting some of the predictors against the response, we find that there are potential nonlinearities in the data. Even though we use polynomials in this tutorial for simplicity, the plots suggest that linear splines (which we will study later) would be well suited here."
   ]
  },
  {
   "cell_type": "code",
   "execution_count": 8,
   "metadata": {},
   "outputs": [
    {
     "data": {
      "image/png": "[encoded data removed]",
      "text/plain": [
       "<matplotlib.figure.Figure at 0x23401025b70>"
      ]
     },
     "metadata": {},
     "output_type": "display_data"
    }
   ],
   "source": [
    "sns.regplot(train['Employees'], train['CLV'],  scatter_kws = {'s': 25}, lowess=True, color=sns.color_palette('Blues')[-1])\n",
    "sns.despine()\n",
    "plt.show()"
   ]
  },
  {
   "cell_type": "code",
   "execution_count": 9,
   "metadata": {},
   "outputs": [
    {
     "data": {
      "image/png": "[encoded data removed]",
      "text/plain": [
       "<matplotlib.figure.Figure at 0x2347d229518>"
      ]
     },
     "metadata": {},
     "output_type": "display_data"
    }
   ],
   "source": [
    "sns.regplot(train['First_Purchase'], train['CLV'],  scatter_kws = {'s': 25}, lowess=True, color=sns.color_palette('Blues')[-1])\n",
    "sns.despine()\n",
    "plt.show()"
   ]
  },
  {
   "cell_type": "code",
   "execution_count": 10,
   "metadata": {},
   "outputs": [
    {
     "data": {
      "image/png": "[encoded data removed]",
      "text/plain": [
       "<matplotlib.figure.Figure at 0x234024b3588>"
      ]
     },
     "metadata": {},
     "output_type": "display_data"
    }
   ],
   "source": [
    "sns.regplot(train['Ret_Expense'], train['CLV'],  scatter_kws = {'s': 25}, lowess=True, color=sns.color_palette('Blues')[-1])\n",
    "sns.despine()\n",
    "plt.show()"
   ]
  },
  {
   "cell_type": "code",
   "execution_count": 11,
   "metadata": {},
   "outputs": [
    {
     "data": {
      "image/png": "[encoded data removed]",
      "text/plain": [
       "<matplotlib.figure.Figure at 0x2340126cb00>"
      ]
     },
     "metadata": {},
     "output_type": "display_data"
    }
   ],
   "source": [
    "sns.regplot(train['Acq_Expense'], train['CLV'],  scatter_kws = {'s': 25}, lowess=True, color=sns.color_palette('Blues')[-1])\n",
    "sns.despine()\n",
    "plt.show()"
   ]
  },
  {
   "cell_type": "markdown",
   "metadata": {},
   "source": [
    "###Standardising the predictors\n",
    "\n",
    "The regularisation and dimension reduction methods in this tutorial, like many machine learning methods, require that first center and standardise the predictors (so that the transformed predictors have zero mean and unit standard deviation). We need to apply the same transformations to the predictors in the test data, where the mean and variance are based on the training data only.  \n",
    "\n",
    "Alternatively, you can use the [standard scaler](http://scikit-learn.org/stable/modules/generated/sklearn.preprocessing.StandardScaler.html#sklearn.preprocessing.StandardScaler) from <TT>Scikit Learn</TT> for this task. "
   ]
  },
  {
   "cell_type": "code",
   "execution_count": 12,
   "metadata": {
    "collapsed": true
   },
   "outputs": [],
   "source": [
    "mu=train[predictors].mean()\n",
    "sigma=train[predictors].std()\n",
    "\n",
    "train[predictors]=(train[predictors]-mu)/sigma\n",
    "test[predictors]=(test[predictors]-mu)/sigma"
   ]
  },
  {
   "cell_type": "markdown",
   "metadata": {},
   "source": [
    "###OLS\n"
   ]
  },
  {
   "cell_type": "code",
   "execution_count": 13,
   "metadata": {},
   "outputs": [
    {
     "data": {
      "text/plain": [
       "LinearRegression(copy_X=True, fit_intercept=True, n_jobs=1, normalize=False)"
      ]
     },
     "execution_count": 13,
     "metadata": {},
     "output_type": "execute_result"
    }
   ],
   "source": [
    "from sklearn.linear_model import LinearRegression\n",
    "ols = LinearRegression()\n",
    "ols.fit(train[predictors], train[response])"
   ]
  },
  {
   "cell_type": "markdown",
   "metadata": {},
   "source": [
    "###Variable selection\n",
    "\n",
    "Even though <TT>Scikit Learn</TT> has functionality for variable selection, they do not correspond to the methods that we have seen in the lecture. Therefore, we write code for variable selection separately in the statistical learning module. Our results will be based on forward selection.  "
   ]
  },
  {
   "cell_type": "code",
   "execution_count": 14,
   "metadata": {},
   "outputs": [
    {
     "name": "stdout",
     "output_type": "stream",
     "text": [
      "Wall time: 1.57 s\n"
     ]
    }
   ],
   "source": [
    "%%time\n",
    "from statlearning import forward\n",
    "\n",
    "fwd = forward()\n",
    "fwd.fit(train[predictors], train[response])"
   ]
  },
  {
   "cell_type": "markdown",
   "metadata": {},
   "source": [
    "###Regularisation methods\n",
    "\n",
    "Starting with the lasso method, the [LassoCV](http://scikit-learn.org/stable/modules/generated/sklearn.linear_model.LassoCV.html) function is the most convenient implementation with built in model selection for the tuning parameter. "
   ]
  },
  {
   "cell_type": "code",
   "execution_count": 15,
   "metadata": {},
   "outputs": [
    {
     "data": {
      "text/plain": [
       "LassoCV(alphas=None, copy_X=True, cv=5, eps=0.001, fit_intercept=True,\n",
       "    max_iter=1000, n_alphas=100, n_jobs=1, normalize=False, positive=False,\n",
       "    precompute='auto', random_state=None, selection='cyclic', tol=0.0001,\n",
       "    verbose=False)"
      ]
     },
     "execution_count": 15,
     "metadata": {},
     "output_type": "execute_result"
    }
   ],
   "source": [
    "from sklearn.linear_model import LassoCV\n",
    "\n",
    "lasso = LassoCV(cv=5)\n",
    "lasso.fit(train[predictors], np.ravel(train[response])) # the np.ravel is a necessary detail for compatibility"
   ]
  },
  {
   "cell_type": "markdown",
   "metadata": {
    "collapsed": true
   },
   "source": [
    "The methods applies a high degree of shrinkage."
   ]
  },
  {
   "cell_type": "code",
   "execution_count": 16,
   "metadata": {},
   "outputs": [
    {
     "data": {
      "text/plain": [
       "0.111"
      ]
     },
     "execution_count": 16,
     "metadata": {},
     "output_type": "execute_result"
    }
   ],
   "source": [
    "round(np.linalg.norm(lasso.coef_, ord=1)/np.linalg.norm(np.ravel(ols.coef_), ord=1),3)"
   ]
  },
  {
   "cell_type": "markdown",
   "metadata": {},
   "source": [
    "The lasso sets several of the coefficients to zero. "
   ]
  },
  {
   "cell_type": "code",
   "execution_count": 17,
   "metadata": {},
   "outputs": [
    {
     "data": {
      "text/html": [
       "<div>\n",
       "<style>\n",
       "    .dataframe thead tr:only-child th {\n",
       "        text-align: right;\n",
       "    }\n",
       "\n",
       "    .dataframe thead th {\n",
       "        text-align: left;\n",
       "    }\n",
       "\n",
       "    .dataframe tbody tr th {\n",
       "        vertical-align: top;\n",
       "    }\n",
       "</style>\n",
       "<table border=\"1\" class=\"dataframe\">\n",
       "  <thead>\n",
       "    <tr style=\"text-align: right;\">\n",
       "      <th></th>\n",
       "      <th>First_Purchase</th>\n",
       "      <th>Acq_Expense</th>\n",
       "      <th>Acq_Expense_SQ</th>\n",
       "      <th>Industry</th>\n",
       "      <th>Revenue</th>\n",
       "      <th>Employees</th>\n",
       "      <th>Ret_Expense</th>\n",
       "      <th>Ret_Expense_SQ</th>\n",
       "      <th>Frequency</th>\n",
       "      <th>Frequency_SQ</th>\n",
       "      <th>Crossbuy_2</th>\n",
       "      <th>Crossbuy_3</th>\n",
       "      <th>Crossbuy_4</th>\n",
       "      <th>Crossbuy_5</th>\n",
       "      <th>Crossbuy_6</th>\n",
       "      <th>I1</th>\n",
       "      <th>I2</th>\n",
       "      <th>I3</th>\n",
       "      <th>I4</th>\n",
       "      <th>I5</th>\n",
       "      <th>I6</th>\n",
       "      <th>I7</th>\n",
       "      <th>I8</th>\n",
       "      <th>First_Purchase_SQ</th>\n",
       "      <th>First_Purchase_CB</th>\n",
       "      <th>Employees_SQ</th>\n",
       "      <th>Employees_CB</th>\n",
       "      <th>Ret_Expense_CB</th>\n",
       "    </tr>\n",
       "  </thead>\n",
       "  <tbody>\n",
       "    <tr>\n",
       "      <th>0</th>\n",
       "      <td>0.631</td>\n",
       "      <td>-0.0</td>\n",
       "      <td>-0.393</td>\n",
       "      <td>0.0</td>\n",
       "      <td>0.02</td>\n",
       "      <td>0.0</td>\n",
       "      <td>1.101</td>\n",
       "      <td>-0.0</td>\n",
       "      <td>0.582</td>\n",
       "      <td>-0.28</td>\n",
       "      <td>0.107</td>\n",
       "      <td>0.127</td>\n",
       "      <td>0.188</td>\n",
       "      <td>0.281</td>\n",
       "      <td>0.327</td>\n",
       "      <td>-0.0</td>\n",
       "      <td>0.095</td>\n",
       "      <td>0.163</td>\n",
       "      <td>-0.155</td>\n",
       "      <td>0.193</td>\n",
       "      <td>-0.0</td>\n",
       "      <td>-0.0</td>\n",
       "      <td>0.015</td>\n",
       "      <td>0.0</td>\n",
       "      <td>0.001</td>\n",
       "      <td>-0.0</td>\n",
       "      <td>-0.018</td>\n",
       "      <td>-0.605</td>\n",
       "    </tr>\n",
       "  </tbody>\n",
       "</table>\n",
       "</div>"
      ],
      "text/plain": [
       "   First_Purchase  Acq_Expense  Acq_Expense_SQ  Industry  Revenue  Employees  \\\n",
       "0           0.631         -0.0          -0.393       0.0     0.02        0.0   \n",
       "\n",
       "   Ret_Expense  Ret_Expense_SQ  Frequency  Frequency_SQ  Crossbuy_2  \\\n",
       "0        1.101            -0.0      0.582         -0.28       0.107   \n",
       "\n",
       "   Crossbuy_3  Crossbuy_4  Crossbuy_5  Crossbuy_6   I1     I2     I3     I4  \\\n",
       "0       0.127       0.188       0.281       0.327 -0.0  0.095  0.163 -0.155   \n",
       "\n",
       "      I5   I6   I7     I8  First_Purchase_SQ  First_Purchase_CB  Employees_SQ  \\\n",
       "0  0.193 -0.0 -0.0  0.015                0.0              0.001          -0.0   \n",
       "\n",
       "   Employees_CB  Ret_Expense_CB  \n",
       "0        -0.018          -0.605  "
      ]
     },
     "execution_count": 17,
     "metadata": {},
     "output_type": "execute_result"
    }
   ],
   "source": [
    "pd.DataFrame(lasso.coef_.round(3), index = predictors).T"
   ]
  },
  {
   "cell_type": "code",
   "execution_count": 18,
   "metadata": {},
   "outputs": [
    {
     "data": {
      "text/plain": [
       "Lasso(alpha=0.0060231856242256472, copy_X=True, fit_intercept=True,\n",
       "   max_iter=1000, normalize=False, positive=False, precompute=False,\n",
       "   random_state=None, selection='cyclic', tol=0.0001, warm_start=False)"
      ]
     },
     "execution_count": 18,
     "metadata": {},
     "output_type": "execute_result"
    }
   ],
   "source": [
    "from sklearn.linear_model import Lasso\n",
    "\n",
    "lasso = Lasso(alpha=lasso.alpha_)\n",
    "lasso.fit(train[predictors], np.ravel(train[response]))"
   ]
  },
  {
   "cell_type": "markdown",
   "metadata": {},
   "source": [
    "The process is similar for ridge regression, except that we need to manually specify a grid on penalty values (called alpha by the package)."
   ]
  },
  {
   "cell_type": "code",
   "execution_count": 19,
   "metadata": {},
   "outputs": [
    {
     "data": {
      "text/plain": [
       "RidgeCV(alphas=array([  4.53999e-05,   4.82131e-05, ...,   4.56856e+08,   4.85165e+08]),\n",
       "    cv=5, fit_intercept=True, gcv_mode=None, normalize=False, scoring=None,\n",
       "    store_cv_values=False)"
      ]
     },
     "execution_count": 19,
     "metadata": {},
     "output_type": "execute_result"
    }
   ],
   "source": [
    "from sklearn.linear_model import RidgeCV\n",
    "\n",
    "alphas = np.exp(np.linspace(-10,20,500)) \n",
    "ridge = RidgeCV(alphas=alphas, cv=5)\n",
    "ridge.fit(train[predictors], np.ravel(train[response]))"
   ]
  },
  {
   "cell_type": "code",
   "execution_count": 20,
   "metadata": {},
   "outputs": [
    {
     "name": "stdout",
     "output_type": "stream",
     "text": [
      "0.131\n"
     ]
    }
   ],
   "source": [
    "print(round(np.linalg.norm(ridge.coef_)/np.linalg.norm(np.ravel(ols.coef_)), 3))"
   ]
  },
  {
   "cell_type": "markdown",
   "metadata": {},
   "source": [
    "We store the model as a standard ridge regression object (this will save time for computing the cross validation results later). "
   ]
  },
  {
   "cell_type": "code",
   "execution_count": 21,
   "metadata": {},
   "outputs": [
    {
     "data": {
      "text/plain": [
       "Ridge(alpha=0.86911436148901855, copy_X=True, fit_intercept=True,\n",
       "   max_iter=None, normalize=False, random_state=None, solver='auto',\n",
       "   tol=0.001)"
      ]
     },
     "execution_count": 21,
     "metadata": {},
     "output_type": "execute_result"
    }
   ],
   "source": [
    "from sklearn.linear_model import Ridge\n",
    "\n",
    "ridge = Ridge(alpha=ridge.alpha_)\n",
    "ridge.fit(train[predictors], np.ravel(train[response]))"
   ]
  },
  {
   "cell_type": "markdown",
   "metadata": {},
   "source": [
    "The procedure for the elastic net is similar, except that in this case we need to specify a grid of values for the weight on the lasso and ridge penalties. "
   ]
  },
  {
   "cell_type": "code",
   "execution_count": 22,
   "metadata": {},
   "outputs": [
    {
     "data": {
      "text/plain": [
       "ElasticNetCV(alphas=None, copy_X=True, cv=5, eps=0.001, fit_intercept=True,\n",
       "       l1_ratio=[0.01, 0.05, 0.1, 0.2, 0.3, 0.4, 0.5, 0.6, 0.7, 0.8, 0.9, 0.95, 0.99],\n",
       "       max_iter=1000, n_alphas=100, n_jobs=1, normalize=False,\n",
       "       positive=False, precompute='auto', random_state=None,\n",
       "       selection='cyclic', tol=0.0001, verbose=0)"
      ]
     },
     "execution_count": 22,
     "metadata": {},
     "output_type": "execute_result"
    }
   ],
   "source": [
    "from sklearn.linear_model import ElasticNetCV\n",
    "enet = ElasticNetCV(l1_ratio=[0.01,0.05,0.1,0.2,0.3,0.4,0.5,0.6,0.7,0.8,0.9,0.95,0.99], cv=5)\n",
    "enet.fit(train[predictors],np.ravel(train[response]))"
   ]
  },
  {
   "cell_type": "markdown",
   "metadata": {},
   "source": [
    "As before, we store the model as a standard elastic net object."
   ]
  },
  {
   "cell_type": "code",
   "execution_count": 23,
   "metadata": {},
   "outputs": [
    {
     "data": {
      "text/plain": [
       "ElasticNet(alpha=0.0060840258830562131, copy_X=True, fit_intercept=True,\n",
       "      l1_ratio=0.98999999999999999, max_iter=1000, normalize=False,\n",
       "      positive=False, precompute=False, random_state=None,\n",
       "      selection='cyclic', tol=0.0001, warm_start=False)"
      ]
     },
     "execution_count": 23,
     "metadata": {},
     "output_type": "execute_result"
    }
   ],
   "source": [
    "from sklearn.linear_model import ElasticNet\n",
    "enet = ElasticNet(alpha=enet.alpha_, l1_ratio=enet.l1_ratio_)\n",
    "enet.fit(train[predictors],np.ravel(train[response]))"
   ]
  },
  {
   "cell_type": "markdown",
   "metadata": {},
   "source": [
    "###Dimension reduction methods\n",
    "\n",
    "The principal components regression method does not currently exist in Python. We therefore need to write code to implement it separately, which is straightforward to do based on <TT>Scikit Learn</TT> class for [pincipal components analysis](http://scikit-learn.org/stable/modules/generated/sklearn.decomposition.PCA.html) (PCA).  \n"
   ]
  },
  {
   "cell_type": "code",
   "execution_count": 24,
   "metadata": {
    "collapsed": true
   },
   "outputs": [],
   "source": [
    "from statlearning import pcrCV\n",
    "pcr=pcrCV(train[predictors], train[response])"
   ]
  },
  {
   "cell_type": "markdown",
   "metadata": {},
   "source": [
    "In the case of partial least squares, <TT>Scikit Learn</TT> has an [implementation](http://scikit-learn.org/stable/modules/generated/sklearn.cross_decomposition.PLSRegression.html), but without automatic selection of the number of components. We therefore do this separately in the statistical learning modue. "
   ]
  },
  {
   "cell_type": "code",
   "execution_count": 25,
   "metadata": {
    "collapsed": true
   },
   "outputs": [],
   "source": [
    "from statlearning import plsCV\n",
    "pls=plsCV(train[predictors], train[response])"
   ]
  },
  {
   "cell_type": "markdown",
   "metadata": {},
   "source": [
    "###Cross validation results\n",
    "\n",
    "In this section, we implement cross validation to estimate the predictive performance of each method (given our choices of hyper-parameters above) based on the training data only. The results suggest that variable selection may be the best method given the available training data, with no clear distiction between the other methods. "
   ]
  },
  {
   "cell_type": "code",
   "execution_count": 26,
   "metadata": {},
   "outputs": [
    {
     "data": {
      "text/html": [
       "<div>\n",
       "<style>\n",
       "    .dataframe thead tr:only-child th {\n",
       "        text-align: right;\n",
       "    }\n",
       "\n",
       "    .dataframe thead th {\n",
       "        text-align: left;\n",
       "    }\n",
       "\n",
       "    .dataframe tbody tr th {\n",
       "        vertical-align: top;\n",
       "    }\n",
       "</style>\n",
       "<table border=\"1\" class=\"dataframe\">\n",
       "  <thead>\n",
       "    <tr style=\"text-align: right;\">\n",
       "      <th></th>\n",
       "      <th>CV RMSE</th>\n",
       "    </tr>\n",
       "  </thead>\n",
       "  <tbody>\n",
       "    <tr>\n",
       "      <th>OLS</th>\n",
       "      <td>0.497</td>\n",
       "    </tr>\n",
       "    <tr>\n",
       "      <th>Forward</th>\n",
       "      <td>0.423</td>\n",
       "    </tr>\n",
       "    <tr>\n",
       "      <th>Ridge</th>\n",
       "      <td>0.484</td>\n",
       "    </tr>\n",
       "    <tr>\n",
       "      <th>Lasso</th>\n",
       "      <td>0.485</td>\n",
       "    </tr>\n",
       "    <tr>\n",
       "      <th>Elastic Net</th>\n",
       "      <td>0.485</td>\n",
       "    </tr>\n",
       "    <tr>\n",
       "      <th>PCR</th>\n",
       "      <td>0.482</td>\n",
       "    </tr>\n",
       "    <tr>\n",
       "      <th>PLS</th>\n",
       "      <td>0.506</td>\n",
       "    </tr>\n",
       "  </tbody>\n",
       "</table>\n",
       "</div>"
      ],
      "text/plain": [
       "             CV RMSE\n",
       "OLS            0.497\n",
       "Forward        0.423\n",
       "Ridge          0.484\n",
       "Lasso          0.485\n",
       "Elastic Net    0.485\n",
       "PCR            0.482\n",
       "PLS            0.506"
      ]
     },
     "execution_count": 26,
     "metadata": {},
     "output_type": "execute_result"
    }
   ],
   "source": [
    "from sklearn.model_selection import KFold\n",
    "from sklearn.model_selection import cross_val_score\n",
    "\n",
    "# Cross validator\n",
    "kf=KFold(len(train), shuffle=True, random_state=1) \n",
    "\n",
    "# Methods\n",
    "columns = ['CV RMSE']\n",
    "rows = ['OLS', 'Forward', 'Ridge','Lasso', 'Elastic Net', 'PCR', 'PLS']\n",
    "\n",
    "regressions = [ols, fwd, ridge, lasso, enet, pcr, pls]\n",
    "results = pd.DataFrame(0.0, columns=columns, index=rows) # initialising a dataframe to hold the results\n",
    "\n",
    "methods = {k: v for k, v in zip(rows, regressions)}\n",
    "\n",
    "# Computing the results (Scikit Learn objects)\n",
    "keys = ['OLS', 'Ridge','Lasso','Elastic Net','PLS']\n",
    "for key in keys:\n",
    "    scores = cross_val_score(methods[key], train[predictors], np.ravel(train[response]), cv=kf, scoring = 'neg_mean_squared_error')\n",
    "    results.loc[key] = np.sqrt(-1*np.mean(scores))\n",
    "\n",
    "# Computing the results (customised models)\n",
    "keys = ['Forward', 'PCR']\n",
    "for key in keys:\n",
    "    results.loc[key] = methods[key].cv_score(train[predictors], np.ravel(train[response]), cv=kf)\n",
    "    \n",
    "results.round(3)"
   ]
  },
  {
   "cell_type": "markdown",
   "metadata": {},
   "source": [
    "###Test results\n",
    "\n",
    "We find that in line with the cross validation results, forward selection has the lowest estimated test error. The lasso also has similar performance, even though we were not able to identify that this is the case based on the training data. Since the lasso also performs variable selection, the results suggest that this is the most critical feature for improving predictive performance in this problem. "
   ]
  },
  {
   "cell_type": "code",
   "execution_count": 27,
   "metadata": {},
   "outputs": [
    {
     "data": {
      "text/html": [
       "<div>\n",
       "<style>\n",
       "    .dataframe thead tr:only-child th {\n",
       "        text-align: right;\n",
       "    }\n",
       "\n",
       "    .dataframe thead th {\n",
       "        text-align: left;\n",
       "    }\n",
       "\n",
       "    .dataframe tbody tr th {\n",
       "        vertical-align: top;\n",
       "    }\n",
       "</style>\n",
       "<table border=\"1\" class=\"dataframe\">\n",
       "  <thead>\n",
       "    <tr style=\"text-align: right;\">\n",
       "      <th></th>\n",
       "      <th>Test RMSE</th>\n",
       "      <th>SE</th>\n",
       "      <th>Test R2</th>\n",
       "      <th>SE</th>\n",
       "    </tr>\n",
       "  </thead>\n",
       "  <tbody>\n",
       "    <tr>\n",
       "      <th>OLS</th>\n",
       "      <td>0.589</td>\n",
       "      <td>0.047</td>\n",
       "      <td>0.594</td>\n",
       "      <td>0.084</td>\n",
       "    </tr>\n",
       "    <tr>\n",
       "      <th>Forward</th>\n",
       "      <td>0.441</td>\n",
       "      <td>0.032</td>\n",
       "      <td>0.772</td>\n",
       "      <td>0.052</td>\n",
       "    </tr>\n",
       "    <tr>\n",
       "      <th>Ridge</th>\n",
       "      <td>0.477</td>\n",
       "      <td>0.032</td>\n",
       "      <td>0.734</td>\n",
       "      <td>0.056</td>\n",
       "    </tr>\n",
       "    <tr>\n",
       "      <th>Lasso</th>\n",
       "      <td>0.443</td>\n",
       "      <td>0.031</td>\n",
       "      <td>0.770</td>\n",
       "      <td>0.050</td>\n",
       "    </tr>\n",
       "    <tr>\n",
       "      <th>Elastic Net</th>\n",
       "      <td>0.443</td>\n",
       "      <td>0.031</td>\n",
       "      <td>0.770</td>\n",
       "      <td>0.050</td>\n",
       "    </tr>\n",
       "    <tr>\n",
       "      <th>PCR</th>\n",
       "      <td>0.509</td>\n",
       "      <td>0.037</td>\n",
       "      <td>0.696</td>\n",
       "      <td>0.067</td>\n",
       "    </tr>\n",
       "    <tr>\n",
       "      <th>PLS</th>\n",
       "      <td>0.490</td>\n",
       "      <td>0.035</td>\n",
       "      <td>0.719</td>\n",
       "      <td>0.064</td>\n",
       "    </tr>\n",
       "  </tbody>\n",
       "</table>\n",
       "</div>"
      ],
      "text/plain": [
       "             Test RMSE     SE  Test R2     SE\n",
       "OLS              0.589  0.047    0.594  0.084\n",
       "Forward          0.441  0.032    0.772  0.052\n",
       "Ridge            0.477  0.032    0.734  0.056\n",
       "Lasso            0.443  0.031    0.770  0.050\n",
       "Elastic Net      0.443  0.031    0.770  0.050\n",
       "PCR              0.509  0.037    0.696  0.067\n",
       "PLS              0.490  0.035    0.719  0.064"
      ]
     },
     "execution_count": 27,
     "metadata": {},
     "output_type": "execute_result"
    }
   ],
   "source": [
    "columns=['Test RMSE', 'SE', 'Test R2', 'SE']\n",
    "rows=['OLS', 'Forward', 'Ridge', 'Lasso', 'Elastic Net', 'PCR', 'PLS']\n",
    "results=pd.DataFrame(0.0, columns=columns, index=rows) \n",
    "\n",
    "# from now on, we use the Jackknife method to be able to report the standard errors for the test results\n",
    "from statlearning import rmse_jack, r2_jack \n",
    "\n",
    "methods=[ols, fwd, ridge, lasso, enet, pcr, pls]\n",
    "i=0\n",
    "for method in methods:\n",
    "    pred=method.predict(test[predictors])\n",
    "    results.iloc[i,0], results.iloc[i,1] = rmse_jack(test[response], pred)\n",
    "    results.iloc[i,2], results.iloc[i,3] = r2_jack(test[response], pred)\n",
    "    i+=1\n",
    "\n",
    "results.round(3)"
   ]
  }
 ],
 "metadata": {
  "kernelspec": {
   "display_name": "Python 3",
   "language": "python",
   "name": "python3"
  },
  "language_info": {
   "codemirror_mode": {
    "name": "ipython",
    "version": 3
   },
   "file_extension": ".py",
   "mimetype": "text/x-python",
   "name": "python",
   "nbconvert_exporter": "python",
   "pygments_lexer": "ipython3",
   "version": "3.6.2"
  }
 },
 "nbformat": 4,
 "nbformat_minor": 2
}
