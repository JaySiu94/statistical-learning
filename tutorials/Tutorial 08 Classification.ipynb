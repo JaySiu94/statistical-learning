{
 "cells": [
  {
   "cell_type": "markdown",
   "metadata": {},
   "source": [
    "<center><img src=\"http://sydney.edu.au/images/content/about/logo-mono.jpg\"></center>\n",
    "\n",
    "<center><h1>Statistical Learning and Data Mining (QBUS6810)</h1></center>\n",
    "<center><h2>Tutorial 8: Classification Methods</h2></center>\n",
    "<br>\n",
    "\n",
    "In this tutorial we study how to implement a range of classification methods in Python.  We use the customer relationship management (CRM) dataset that we first saw in the linear model selection and regularisation tutorial. \n",
    "\n",
    "<a class=\"buttom\" href=\">#Data:-customer-acquisition\">Data: customer acquisition</a> <br>\n",
    "<a class=\"buttom\" href=\"#Exploratory-data-analysis\">Exploratory data analysis</a> <br>\n",
    "<a class=\"buttom\" href=\"#Feature-processing\">Feature processing</a> <br>\n",
    "<a class=\"buttom\" href=\"#Logistic-regression\">Logistic regression</a> <br>\n",
    "<a class=\"buttom\" href=\"#Gaussian-discriminant-analysis\">Gaussian discriminant analysis</a> <br>\n",
    "<a class=\"buttom\" href=\"#K-nearest-neighbours-classifier\">K-nearest neighbours classifier</a> <br>\n",
    "<a class=\"buttom\" href=\"#Model-evaluation\">Model Evaluation</a> <br>\n",
    "\n",
    "This notebook relies on the following imports and settings."
   ]
  },
  {
   "cell_type": "code",
   "execution_count": 1,
   "metadata": {
    "collapsed": true
   },
   "outputs": [],
   "source": [
    "import warnings\n",
    "warnings.filterwarnings(\"ignore\")\n",
    "\n",
    "import pandas as pd\n",
    "import numpy as np\n",
    "import matplotlib.pyplot as plt\n",
    "import seaborn as sns\n",
    "import statsmodels.api as sm\n",
    "sns.set_context('notebook') \n",
    "sns.set_style('ticks')\n",
    "%matplotlib inline"
   ]
  },
  {
   "cell_type": "markdown",
   "metadata": {},
   "source": [
    "##Data: customer acquisition"
   ]
  },
  {
   "cell_type": "code",
   "execution_count": 2,
   "metadata": {},
   "outputs": [
    {
     "data": {
      "text/html": [
       "<div>\n",
       "<style>\n",
       "    .dataframe thead tr:only-child th {\n",
       "        text-align: right;\n",
       "    }\n",
       "\n",
       "    .dataframe thead th {\n",
       "        text-align: left;\n",
       "    }\n",
       "\n",
       "    .dataframe tbody tr th {\n",
       "        vertical-align: top;\n",
       "    }\n",
       "</style>\n",
       "<table border=\"1\" class=\"dataframe\">\n",
       "  <thead>\n",
       "    <tr style=\"text-align: right;\">\n",
       "      <th></th>\n",
       "      <th>Acquisition</th>\n",
       "      <th>First_Purchase</th>\n",
       "      <th>CLV</th>\n",
       "      <th>Duration</th>\n",
       "      <th>Censor</th>\n",
       "      <th>Acq_Expense</th>\n",
       "      <th>Acq_Expense_SQ</th>\n",
       "      <th>Industry</th>\n",
       "      <th>Revenue</th>\n",
       "      <th>Employees</th>\n",
       "      <th>Ret_Expense</th>\n",
       "      <th>Ret_Expense_SQ</th>\n",
       "      <th>Crossbuy</th>\n",
       "      <th>Frequency</th>\n",
       "      <th>Frequency_SQ</th>\n",
       "    </tr>\n",
       "    <tr>\n",
       "      <th>Customer</th>\n",
       "      <th></th>\n",
       "      <th></th>\n",
       "      <th></th>\n",
       "      <th></th>\n",
       "      <th></th>\n",
       "      <th></th>\n",
       "      <th></th>\n",
       "      <th></th>\n",
       "      <th></th>\n",
       "      <th></th>\n",
       "      <th></th>\n",
       "      <th></th>\n",
       "      <th></th>\n",
       "      <th></th>\n",
       "      <th></th>\n",
       "    </tr>\n",
       "  </thead>\n",
       "  <tbody>\n",
       "    <tr>\n",
       "      <th>1</th>\n",
       "      <td>1</td>\n",
       "      <td>433.64</td>\n",
       "      <td>0.0000</td>\n",
       "      <td>384</td>\n",
       "      <td>0</td>\n",
       "      <td>760.36</td>\n",
       "      <td>578147.33</td>\n",
       "      <td>1</td>\n",
       "      <td>30.16</td>\n",
       "      <td>1240</td>\n",
       "      <td>2309.79</td>\n",
       "      <td>5335129.84</td>\n",
       "      <td>5</td>\n",
       "      <td>2</td>\n",
       "      <td>4</td>\n",
       "    </tr>\n",
       "    <tr>\n",
       "      <th>2</th>\n",
       "      <td>0</td>\n",
       "      <td>0.00</td>\n",
       "      <td>0.0000</td>\n",
       "      <td>0</td>\n",
       "      <td>0</td>\n",
       "      <td>147.70</td>\n",
       "      <td>21815.29</td>\n",
       "      <td>1</td>\n",
       "      <td>39.80</td>\n",
       "      <td>166</td>\n",
       "      <td>0.00</td>\n",
       "      <td>0.00</td>\n",
       "      <td>0</td>\n",
       "      <td>0</td>\n",
       "      <td>0</td>\n",
       "    </tr>\n",
       "    <tr>\n",
       "      <th>3</th>\n",
       "      <td>0</td>\n",
       "      <td>0.00</td>\n",
       "      <td>0.0000</td>\n",
       "      <td>0</td>\n",
       "      <td>0</td>\n",
       "      <td>252.56</td>\n",
       "      <td>63786.55</td>\n",
       "      <td>1</td>\n",
       "      <td>54.93</td>\n",
       "      <td>1016</td>\n",
       "      <td>0.00</td>\n",
       "      <td>0.00</td>\n",
       "      <td>0</td>\n",
       "      <td>0</td>\n",
       "      <td>0</td>\n",
       "    </tr>\n",
       "    <tr>\n",
       "      <th>4</th>\n",
       "      <td>1</td>\n",
       "      <td>225.84</td>\n",
       "      <td>5.7316</td>\n",
       "      <td>730</td>\n",
       "      <td>1</td>\n",
       "      <td>609.73</td>\n",
       "      <td>371770.67</td>\n",
       "      <td>1</td>\n",
       "      <td>45.83</td>\n",
       "      <td>122</td>\n",
       "      <td>2192.59</td>\n",
       "      <td>4807450.91</td>\n",
       "      <td>2</td>\n",
       "      <td>12</td>\n",
       "      <td>144</td>\n",
       "    </tr>\n",
       "    <tr>\n",
       "      <th>5</th>\n",
       "      <td>1</td>\n",
       "      <td>363.04</td>\n",
       "      <td>0.0000</td>\n",
       "      <td>579</td>\n",
       "      <td>0</td>\n",
       "      <td>672.36</td>\n",
       "      <td>452067.97</td>\n",
       "      <td>1</td>\n",
       "      <td>69.03</td>\n",
       "      <td>313</td>\n",
       "      <td>801.14</td>\n",
       "      <td>641825.30</td>\n",
       "      <td>4</td>\n",
       "      <td>7</td>\n",
       "      <td>49</td>\n",
       "    </tr>\n",
       "    <tr>\n",
       "      <th>6</th>\n",
       "      <td>0</td>\n",
       "      <td>0.00</td>\n",
       "      <td>0.0000</td>\n",
       "      <td>0</td>\n",
       "      <td>0</td>\n",
       "      <td>435.57</td>\n",
       "      <td>189721.22</td>\n",
       "      <td>0</td>\n",
       "      <td>22.54</td>\n",
       "      <td>359</td>\n",
       "      <td>0.00</td>\n",
       "      <td>0.00</td>\n",
       "      <td>0</td>\n",
       "      <td>0</td>\n",
       "      <td>0</td>\n",
       "    </tr>\n",
       "    <tr>\n",
       "      <th>7</th>\n",
       "      <td>0</td>\n",
       "      <td>0.00</td>\n",
       "      <td>0.0000</td>\n",
       "      <td>0</td>\n",
       "      <td>0</td>\n",
       "      <td>362.90</td>\n",
       "      <td>131696.41</td>\n",
       "      <td>0</td>\n",
       "      <td>32.97</td>\n",
       "      <td>902</td>\n",
       "      <td>0.00</td>\n",
       "      <td>0.00</td>\n",
       "      <td>0</td>\n",
       "      <td>0</td>\n",
       "      <td>0</td>\n",
       "    </tr>\n",
       "    <tr>\n",
       "      <th>8</th>\n",
       "      <td>0</td>\n",
       "      <td>0.00</td>\n",
       "      <td>0.0000</td>\n",
       "      <td>0</td>\n",
       "      <td>0</td>\n",
       "      <td>883.54</td>\n",
       "      <td>780642.93</td>\n",
       "      <td>0</td>\n",
       "      <td>22.48</td>\n",
       "      <td>264</td>\n",
       "      <td>0.00</td>\n",
       "      <td>0.00</td>\n",
       "      <td>0</td>\n",
       "      <td>0</td>\n",
       "      <td>0</td>\n",
       "    </tr>\n",
       "    <tr>\n",
       "      <th>9</th>\n",
       "      <td>1</td>\n",
       "      <td>599.30</td>\n",
       "      <td>6.9161</td>\n",
       "      <td>730</td>\n",
       "      <td>1</td>\n",
       "      <td>452.35</td>\n",
       "      <td>204620.52</td>\n",
       "      <td>1</td>\n",
       "      <td>17.98</td>\n",
       "      <td>1782</td>\n",
       "      <td>1340.75</td>\n",
       "      <td>1797610.56</td>\n",
       "      <td>1</td>\n",
       "      <td>11</td>\n",
       "      <td>121</td>\n",
       "    </tr>\n",
       "    <tr>\n",
       "      <th>10</th>\n",
       "      <td>1</td>\n",
       "      <td>271.18</td>\n",
       "      <td>6.0839</td>\n",
       "      <td>730</td>\n",
       "      <td>1</td>\n",
       "      <td>786.72</td>\n",
       "      <td>618928.36</td>\n",
       "      <td>1</td>\n",
       "      <td>38.91</td>\n",
       "      <td>539</td>\n",
       "      <td>2265.93</td>\n",
       "      <td>5134438.76</td>\n",
       "      <td>1</td>\n",
       "      <td>14</td>\n",
       "      <td>196</td>\n",
       "    </tr>\n",
       "  </tbody>\n",
       "</table>\n",
       "</div>"
      ],
      "text/plain": [
       "          Acquisition  First_Purchase     CLV  Duration  Censor  Acq_Expense  \\\n",
       "Customer                                                                       \n",
       "1                   1          433.64  0.0000       384       0       760.36   \n",
       "2                   0            0.00  0.0000         0       0       147.70   \n",
       "3                   0            0.00  0.0000         0       0       252.56   \n",
       "4                   1          225.84  5.7316       730       1       609.73   \n",
       "5                   1          363.04  0.0000       579       0       672.36   \n",
       "6                   0            0.00  0.0000         0       0       435.57   \n",
       "7                   0            0.00  0.0000         0       0       362.90   \n",
       "8                   0            0.00  0.0000         0       0       883.54   \n",
       "9                   1          599.30  6.9161       730       1       452.35   \n",
       "10                  1          271.18  6.0839       730       1       786.72   \n",
       "\n",
       "          Acq_Expense_SQ  Industry  Revenue  Employees  Ret_Expense  \\\n",
       "Customer                                                              \n",
       "1              578147.33         1    30.16       1240      2309.79   \n",
       "2               21815.29         1    39.80        166         0.00   \n",
       "3               63786.55         1    54.93       1016         0.00   \n",
       "4              371770.67         1    45.83        122      2192.59   \n",
       "5              452067.97         1    69.03        313       801.14   \n",
       "6              189721.22         0    22.54        359         0.00   \n",
       "7              131696.41         0    32.97        902         0.00   \n",
       "8              780642.93         0    22.48        264         0.00   \n",
       "9              204620.52         1    17.98       1782      1340.75   \n",
       "10             618928.36         1    38.91        539      2265.93   \n",
       "\n",
       "          Ret_Expense_SQ  Crossbuy  Frequency  Frequency_SQ  \n",
       "Customer                                                     \n",
       "1             5335129.84         5          2             4  \n",
       "2                   0.00         0          0             0  \n",
       "3                   0.00         0          0             0  \n",
       "4             4807450.91         2         12           144  \n",
       "5              641825.30         4          7            49  \n",
       "6                   0.00         0          0             0  \n",
       "7                   0.00         0          0             0  \n",
       "8                   0.00         0          0             0  \n",
       "9             1797610.56         1         11           121  \n",
       "10            5134438.76         1         14           196  "
      ]
     },
     "execution_count": 2,
     "metadata": {},
     "output_type": "execute_result"
    }
   ],
   "source": [
    "data = pd.read_excel('CustomerAcquisition.xls', index_col=[0])\n",
    "data.head(10)"
   ]
  },
  {
   "cell_type": "markdown",
   "metadata": {},
   "source": [
    "We process the data as follows. Note only that five of the variables in the dataset (including the response) are relevant for customer acquisition modelling, since the rest are variables measured only after a customer is acquired."
   ]
  },
  {
   "cell_type": "code",
   "execution_count": 3,
   "metadata": {
    "collapsed": true
   },
   "outputs": [],
   "source": [
    "train = data.sample(frac=0.7, random_state=1)\n",
    "test = data[data.index.isin(train.index)==False].copy()\n",
    "\n",
    "response = 'Acquisition'\n",
    "predictors = ['Acq_Expense', 'Revenue', 'Employees', 'Industry']\n",
    "\n",
    "y_train = train[response]\n",
    "y_test = test[response]\n",
    "X_train = train[predictors]\n",
    "X_test = test[predictors]"
   ]
  },
  {
   "cell_type": "markdown",
   "metadata": {},
   "source": [
    "##Exploratory data analysis\n",
    "\n",
    "The company acquired 58.9% of prospects in the training data as customers. "
   ]
  },
  {
   "cell_type": "code",
   "execution_count": 4,
   "metadata": {},
   "outputs": [
    {
     "data": {
      "text/plain": [
       "0.589"
      ]
     },
     "execution_count": 4,
     "metadata": {},
     "output_type": "execute_result"
    }
   ],
   "source": [
    "round(y_train.mean(), 3)"
   ]
  },
  {
   "cell_type": "markdown",
   "metadata": {},
   "source": [
    "The next cell display the descriptive statistics for the predictors. We add the sample skewness and kurtosis to the table to verify how close the empirical distribution of numerical predictor is from the normal distribution. \n",
    "\n",
    "The acquisition expense and revenue are approximately symmetric, but seem to have lower kurtosis (thinner tails) that a normally distributed variable. The number of employees variable is positively skewed and also displays low kurtosis. \n",
    "\n",
    "57.4% of prospects are in the B2B (business-to-business) industry.  "
   ]
  },
  {
   "cell_type": "code",
   "execution_count": 5,
   "metadata": {},
   "outputs": [
    {
     "data": {
      "text/html": [
       "<div>\n",
       "<style>\n",
       "    .dataframe thead tr:only-child th {\n",
       "        text-align: right;\n",
       "    }\n",
       "\n",
       "    .dataframe thead th {\n",
       "        text-align: left;\n",
       "    }\n",
       "\n",
       "    .dataframe tbody tr th {\n",
       "        vertical-align: top;\n",
       "    }\n",
       "</style>\n",
       "<table border=\"1\" class=\"dataframe\">\n",
       "  <thead>\n",
       "    <tr style=\"text-align: right;\">\n",
       "      <th></th>\n",
       "      <th>Acq_Expense</th>\n",
       "      <th>Revenue</th>\n",
       "      <th>Employees</th>\n",
       "      <th>Industry</th>\n",
       "    </tr>\n",
       "  </thead>\n",
       "  <tbody>\n",
       "    <tr>\n",
       "      <th>count</th>\n",
       "      <td>350.000</td>\n",
       "      <td>350.000</td>\n",
       "      <td>350.000</td>\n",
       "      <td>350.000</td>\n",
       "    </tr>\n",
       "    <tr>\n",
       "      <th>mean</th>\n",
       "      <td>516.208</td>\n",
       "      <td>39.771</td>\n",
       "      <td>682.354</td>\n",
       "      <td>0.574</td>\n",
       "    </tr>\n",
       "    <tr>\n",
       "      <th>std</th>\n",
       "      <td>222.419</td>\n",
       "      <td>15.986</td>\n",
       "      <td>482.459</td>\n",
       "      <td>0.495</td>\n",
       "    </tr>\n",
       "    <tr>\n",
       "      <th>min</th>\n",
       "      <td>14.210</td>\n",
       "      <td>2.350</td>\n",
       "      <td>11.000</td>\n",
       "      <td>0.000</td>\n",
       "    </tr>\n",
       "    <tr>\n",
       "      <th>25%</th>\n",
       "      <td>355.335</td>\n",
       "      <td>28.062</td>\n",
       "      <td>277.250</td>\n",
       "      <td>0.000</td>\n",
       "    </tr>\n",
       "    <tr>\n",
       "      <th>50%</th>\n",
       "      <td>529.195</td>\n",
       "      <td>40.550</td>\n",
       "      <td>594.500</td>\n",
       "      <td>1.000</td>\n",
       "    </tr>\n",
       "    <tr>\n",
       "      <th>75%</th>\n",
       "      <td>688.248</td>\n",
       "      <td>51.048</td>\n",
       "      <td>1039.750</td>\n",
       "      <td>1.000</td>\n",
       "    </tr>\n",
       "    <tr>\n",
       "      <th>max</th>\n",
       "      <td>968.060</td>\n",
       "      <td>74.970</td>\n",
       "      <td>1950.000</td>\n",
       "      <td>1.000</td>\n",
       "    </tr>\n",
       "    <tr>\n",
       "      <th>skew</th>\n",
       "      <td>-0.030</td>\n",
       "      <td>-0.097</td>\n",
       "      <td>0.578</td>\n",
       "      <td>-0.302</td>\n",
       "    </tr>\n",
       "    <tr>\n",
       "      <th>kurt</th>\n",
       "      <td>-0.831</td>\n",
       "      <td>-0.644</td>\n",
       "      <td>-0.782</td>\n",
       "      <td>-1.920</td>\n",
       "    </tr>\n",
       "  </tbody>\n",
       "</table>\n",
       "</div>"
      ],
      "text/plain": [
       "       Acq_Expense  Revenue  Employees  Industry\n",
       "count      350.000  350.000    350.000   350.000\n",
       "mean       516.208   39.771    682.354     0.574\n",
       "std        222.419   15.986    482.459     0.495\n",
       "min         14.210    2.350     11.000     0.000\n",
       "25%        355.335   28.062    277.250     0.000\n",
       "50%        529.195   40.550    594.500     1.000\n",
       "75%        688.248   51.048   1039.750     1.000\n",
       "max        968.060   74.970   1950.000     1.000\n",
       "skew        -0.030   -0.097      0.578    -0.302\n",
       "kurt        -0.831   -0.644     -0.782    -1.920"
      ]
     },
     "execution_count": 5,
     "metadata": {},
     "output_type": "execute_result"
    }
   ],
   "source": [
    "descriptive = X_train.describe()\n",
    "descriptive.loc['skew', :] = X_train.skew()\n",
    "descriptive.loc['kurt', :] = X_train.kurt()\n",
    "descriptive.round(3)"
   ]
  },
  {
   "cell_type": "markdown",
   "metadata": {},
   "source": [
    "We use histograms to further explore the univariate distribution of the numerical predictors. "
   ]
  },
  {
   "cell_type": "code",
   "execution_count": 6,
   "metadata": {},
   "outputs": [
    {
     "data": {
      "image/png": "[encoded data removed]",
      "text/plain": [
       "<matplotlib.figure.Figure at 0x1ed293675f8>"
      ]
     },
     "metadata": {},
     "output_type": "display_data"
    },
    {
     "data": {
      "image/png": "[encoded data removed]",
      "text/plain": [
       "<matplotlib.figure.Figure at 0x1ed29441160>"
      ]
     },
     "metadata": {},
     "output_type": "display_data"
    },
    {
     "data": {
      "image/png": "[encoded data removed]",
      "text/plain": [
       "<matplotlib.figure.Figure at 0x1ed294742b0>"
      ]
     },
     "metadata": {},
     "output_type": "display_data"
    }
   ],
   "source": [
    "def hist(series):\n",
    "    fig, ax= plt.subplots()\n",
    "    sns.distplot(series, ax=ax, hist_kws={'alpha': 0.9, 'edgecolor':'black', 'color': sns.color_palette('Blues')[-1]},  \n",
    "                 kde_kws={'color': 'black', 'alpha': 0.7})\n",
    "    return fig, ax\n",
    "\n",
    "for i in range(3):\n",
    "    hist(train[predictors[i]])\n",
    "    sns.despine()\n",
    "    plt.show()"
   ]
  },
  {
   "cell_type": "markdown",
   "metadata": {},
   "source": [
    "To explore the relationship between the numerical predictors are the respose, we use univariate logistic regression. The results that the acquisition expense may be strongly associated with a higher probability of acquisition. "
   ]
  },
  {
   "cell_type": "code",
   "execution_count": 7,
   "metadata": {},
   "outputs": [
    {
     "data": {
      "image/png": "[encoded data removed]",
      "text/plain": [
       "<matplotlib.figure.Figure at 0x1ed293675c0>"
      ]
     },
     "metadata": {},
     "output_type": "display_data"
    },
    {
     "data": {
      "image/png": "[encoded data removed]",
      "text/plain": [
       "<matplotlib.figure.Figure at 0x1ed29e3dcf8>"
      ]
     },
     "metadata": {},
     "output_type": "display_data"
    },
    {
     "data": {
      "image/png": "[encoded data removed]",
      "text/plain": [
       "<matplotlib.figure.Figure at 0x1ed29e96320>"
      ]
     },
     "metadata": {},
     "output_type": "display_data"
    }
   ],
   "source": [
    "for i in range(3):\n",
    "    sns.regplot(X_train[predictors[i]], y_train, color=sns.color_palette('Blues')[-1], ci=None, logistic=True, y_jitter=0.05, \n",
    "            scatter_kws={'s': 25, 'color': sns.color_palette('Blues')[-1], 'alpha': .5})\n",
    "    sns.despine()\n",
    "    plt.show()"
   ]
  },
  {
   "cell_type": "markdown",
   "metadata": {},
   "source": [
    "A higher proportion of prospects is the B2B is acquired compared to the non-B2B prospects. "
   ]
  },
  {
   "cell_type": "code",
   "execution_count": 8,
   "metadata": {},
   "outputs": [
    {
     "data": {
      "text/html": [
       "<div>\n",
       "<style>\n",
       "    .dataframe thead tr:only-child th {\n",
       "        text-align: right;\n",
       "    }\n",
       "\n",
       "    .dataframe thead th {\n",
       "        text-align: left;\n",
       "    }\n",
       "\n",
       "    .dataframe tbody tr th {\n",
       "        vertical-align: top;\n",
       "    }\n",
       "</style>\n",
       "<table border=\"1\" class=\"dataframe\">\n",
       "  <thead>\n",
       "    <tr style=\"text-align: right;\">\n",
       "      <th>Industry</th>\n",
       "      <th>0</th>\n",
       "      <th>1</th>\n",
       "    </tr>\n",
       "    <tr>\n",
       "      <th>Acquisition</th>\n",
       "      <th></th>\n",
       "      <th></th>\n",
       "    </tr>\n",
       "  </thead>\n",
       "  <tbody>\n",
       "    <tr>\n",
       "      <th>0</th>\n",
       "      <td>0.463</td>\n",
       "      <td>0.373</td>\n",
       "    </tr>\n",
       "    <tr>\n",
       "      <th>1</th>\n",
       "      <td>0.537</td>\n",
       "      <td>0.627</td>\n",
       "    </tr>\n",
       "  </tbody>\n",
       "</table>\n",
       "</div>"
      ],
      "text/plain": [
       "Industry         0      1\n",
       "Acquisition              \n",
       "0            0.463  0.373\n",
       "1            0.537  0.627"
      ]
     },
     "execution_count": 8,
     "metadata": {},
     "output_type": "execute_result"
    }
   ],
   "source": [
    "table=pd.crosstab(train['Acquisition'], train['Industry'])\n",
    "table = (table/table.sum()).round(3)\n",
    "table"
   ]
  },
  {
   "cell_type": "markdown",
   "metadata": {},
   "source": [
    "##Predictor processing\n",
    "\n",
    "In this tutorial, the only processing step that apply to the predictors is to standardise the variables. Predictive transformation may be useful in some cases for classification, but cross validation suggested that it is not useful for the current application. "
   ]
  },
  {
   "cell_type": "code",
   "execution_count": 9,
   "metadata": {
    "collapsed": true
   },
   "outputs": [],
   "source": [
    "mu=X_train.mean()\n",
    "sigma=X_train.std()\n",
    "\n",
    "X_train=(X_train-mu)/sigma\n",
    "X_test=(X_test-mu)/sigma"
   ]
  },
  {
   "cell_type": "markdown",
   "metadata": {},
   "source": [
    "##Logistic regression\n",
    "\n",
    "The next two cells shows two ways of estimating logistic regressions.  The first uses the <TT>statmodels</TT> package and is useful for generating an output and interpreting the model. The second uses the <TT>scikit-learn</TT> library as usual. "
   ]
  },
  {
   "cell_type": "code",
   "execution_count": 10,
   "metadata": {},
   "outputs": [
    {
     "name": "stdout",
     "output_type": "stream",
     "text": [
      "Optimization terminated successfully.\n",
      "         Current function value: 0.207775\n",
      "         Iterations 9\n",
      "                           Logit Regression Results                           \n",
      "==============================================================================\n",
      "Dep. Variable:            Acquisition   No. Observations:                  350\n",
      "Model:                          Logit   Df Residuals:                      345\n",
      "Method:                           MLE   Df Model:                            4\n",
      "Date:                Wed, 11 Oct 2017   Pseudo R-squ.:                  0.6933\n",
      "Time:                        14:45:20   Log-Likelihood:                -72.721\n",
      "converged:                       True   LL-Null:                       -237.08\n",
      "                                        LLR p-value:                 6.886e-70\n",
      "===============================================================================\n",
      "                  coef    std err          z      P>|z|      [0.025      0.975]\n",
      "-------------------------------------------------------------------------------\n",
      "const           1.3877      0.271      5.123      0.000       0.857       1.919\n",
      "Acq_Expense     4.9685      0.634      7.842      0.000       3.727       6.210\n",
      "Revenue         0.6182      0.227      2.728      0.006       0.174       1.062\n",
      "Employees       2.0338      0.351      5.798      0.000       1.346       2.721\n",
      "Industry        0.0220      0.218      0.101      0.920      -0.406       0.450\n",
      "===============================================================================\n"
     ]
    }
   ],
   "source": [
    "glm = sm.Logit(y_train, sm.add_constant(X_train)).fit()\n",
    "print(glm.summary())"
   ]
  },
  {
   "cell_type": "code",
   "execution_count": 11,
   "metadata": {},
   "outputs": [
    {
     "data": {
      "text/plain": [
       "LogisticRegressionCV(Cs=10, class_weight=None, cv=None, dual=False,\n",
       "           fit_intercept=True, intercept_scaling=1.0, max_iter=100,\n",
       "           multi_class='ovr', n_jobs=1, penalty='l2', random_state=None,\n",
       "           refit=True, scoring=None, solver='lbfgs', tol=0.0001, verbose=0)"
      ]
     },
     "execution_count": 11,
     "metadata": {},
     "output_type": "execute_result"
    }
   ],
   "source": [
    "from sklearn.linear_model import LogisticRegression\n",
    "from sklearn.linear_model import LogisticRegressionCV\n",
    "\n",
    "# Logistic regression\n",
    "logit = LogisticRegression()\n",
    "logit.fit(X_train, y_train)\n",
    "\n",
    "# L-1 Regularised logistic regression\n",
    "logit_l1 = LogisticRegressionCV(penalty='l1', solver='liblinear')\n",
    "logit_l1.fit(X_train, y_train)\n",
    "\n",
    "# L-2 Regularised logistic regression\n",
    "logit_l2 = LogisticRegressionCV(penalty='l2')\n",
    "logit_l2.fit(X_train, y_train)"
   ]
  },
  {
   "cell_type": "markdown",
   "metadata": {},
   "source": [
    "##Gaussian discriminant analysis\n",
    "\n",
    "Since GDA replies on the assumption of normality, we exclude the binary predictor for this class of models. "
   ]
  },
  {
   "cell_type": "code",
   "execution_count": 12,
   "metadata": {},
   "outputs": [
    {
     "data": {
      "text/plain": [
       "QuadraticDiscriminantAnalysis(priors=None, reg_param=0.0,\n",
       "               store_covariances=False, tol=0.0001)"
      ]
     },
     "execution_count": 12,
     "metadata": {},
     "output_type": "execute_result"
    }
   ],
   "source": [
    "from sklearn.discriminant_analysis import LinearDiscriminantAnalysis\n",
    "from sklearn.discriminant_analysis import QuadraticDiscriminantAnalysis\n",
    "\n",
    "lda = LinearDiscriminantAnalysis()\n",
    "lda.fit(X_train.iloc[:,:3], y_train)\n",
    "\n",
    "qda = QuadraticDiscriminantAnalysis()\n",
    "qda.fit(X_train.iloc[:,:3], y_train)"
   ]
  },
  {
   "cell_type": "markdown",
   "metadata": {},
   "source": [
    "For regularisation, we need to write a routine to select the hyperparameter by cross validation."
   ]
  },
  {
   "cell_type": "code",
   "execution_count": 14,
   "metadata": {
    "collapsed": true
   },
   "outputs": [],
   "source": [
    "from sklearn.model_selection import cross_val_score\n",
    "\n",
    "def qda_cv(X_train, y_train):\n",
    "    \n",
    "    alphas  = np.linspace(0, 1, 21)\n",
    "    best_score = -np.inf\n",
    "    \n",
    "    for alpha in alphas:\n",
    "        qda = QuadraticDiscriminantAnalysis(reg_param=alpha)\n",
    "        score = np.mean(cross_val_score(qda, X_train, y_train, cv=10, scoring = 'accuracy'))\n",
    "        if score >= best_score:\n",
    "            best = qda\n",
    "            best_score = score\n",
    "    \n",
    "    return qda.fit(X_train, y_train)\n",
    "        \n",
    "qda_reg = qda_cv(X_train.iloc[:,:3], y_train) "
   ]
  },
  {
   "cell_type": "markdown",
   "metadata": {},
   "source": [
    "##K-nearest neighbours classifier\n",
    "\n",
    "For the KNN classifier, we also need to write a routine to select te number of neighbours by cross validation."
   ]
  },
  {
   "cell_type": "code",
   "execution_count": 15,
   "metadata": {},
   "outputs": [
    {
     "data": {
      "text/plain": [
       "KNeighborsClassifier(algorithm='auto', leaf_size=30, metric='mahalanobis',\n",
       "           metric_params={'V':              Acq_Expense   Revenue  Employees  Industry\n",
       "Acq_Expense     1.000000 -0.059305   0.023439  0.075623\n",
       "Revenue        -0.059305  1.000000  -0.003835 -0.162085\n",
       "Employees       0.023439 -0.003835   1.000000  0.036652\n",
       "Industry        0.075623 -0.162085   0.036652  1.000000},\n",
       "           n_jobs=1, n_neighbors=12, p=2, weights='uniform')"
      ]
     },
     "execution_count": 15,
     "metadata": {},
     "output_type": "execute_result"
    }
   ],
   "source": [
    "from sklearn.neighbors import KNeighborsClassifier\n",
    "\n",
    "def knn_cv(X_train, y_train):\n",
    "    \n",
    "    neighbours = np.arange(1, 51)\n",
    "    best_score = 0\n",
    "    \n",
    "    for k in neighbours:\n",
    "        knn = KNeighborsClassifier(n_neighbors = k ,  metric='mahalanobis', metric_params={'V': X_train.cov()})\n",
    "        score = np.mean(cross_val_score(knn, X_train, y_train, cv=10, scoring = 'accuracy'))\n",
    "        if score >= best_score:\n",
    "            best = knn\n",
    "            best_score = score\n",
    "    \n",
    "    return best\n",
    "        \n",
    "knn = knn_cv(X_train, y_train) \n",
    "knn.fit(X_train, y_train)"
   ]
  },
  {
   "cell_type": "markdown",
   "metadata": {},
   "source": [
    "##Model evaluation"
   ]
  },
  {
   "cell_type": "code",
   "execution_count": 16,
   "metadata": {},
   "outputs": [
    {
     "data": {
      "text/html": [
       "<div>\n",
       "<style>\n",
       "    .dataframe thead tr:only-child th {\n",
       "        text-align: right;\n",
       "    }\n",
       "\n",
       "    .dataframe thead th {\n",
       "        text-align: left;\n",
       "    }\n",
       "\n",
       "    .dataframe tbody tr th {\n",
       "        vertical-align: top;\n",
       "    }\n",
       "</style>\n",
       "<table border=\"1\" class=\"dataframe\">\n",
       "  <thead>\n",
       "    <tr style=\"text-align: right;\">\n",
       "      <th></th>\n",
       "      <th>Error rate</th>\n",
       "      <th>SE</th>\n",
       "      <th>Sensitivity</th>\n",
       "      <th>Specificity</th>\n",
       "      <th>AUC</th>\n",
       "      <th>Precision</th>\n",
       "    </tr>\n",
       "  </thead>\n",
       "  <tbody>\n",
       "    <tr>\n",
       "      <th>KNN</th>\n",
       "      <td>0.127</td>\n",
       "      <td>0.027</td>\n",
       "      <td>0.895</td>\n",
       "      <td>0.844</td>\n",
       "      <td>0.954</td>\n",
       "      <td>0.885</td>\n",
       "    </tr>\n",
       "    <tr>\n",
       "      <th>Logistic</th>\n",
       "      <td>0.080</td>\n",
       "      <td>0.022</td>\n",
       "      <td>0.930</td>\n",
       "      <td>0.906</td>\n",
       "      <td>0.963</td>\n",
       "      <td>0.930</td>\n",
       "    </tr>\n",
       "    <tr>\n",
       "      <th>L1 regularised</th>\n",
       "      <td>0.087</td>\n",
       "      <td>0.023</td>\n",
       "      <td>0.907</td>\n",
       "      <td>0.922</td>\n",
       "      <td>0.962</td>\n",
       "      <td>0.940</td>\n",
       "    </tr>\n",
       "    <tr>\n",
       "      <th>L2 regularised</th>\n",
       "      <td>0.080</td>\n",
       "      <td>0.022</td>\n",
       "      <td>0.930</td>\n",
       "      <td>0.906</td>\n",
       "      <td>0.964</td>\n",
       "      <td>0.930</td>\n",
       "    </tr>\n",
       "    <tr>\n",
       "      <th>LDA</th>\n",
       "      <td>0.093</td>\n",
       "      <td>0.024</td>\n",
       "      <td>0.907</td>\n",
       "      <td>0.906</td>\n",
       "      <td>0.966</td>\n",
       "      <td>0.929</td>\n",
       "    </tr>\n",
       "    <tr>\n",
       "      <th>QDA</th>\n",
       "      <td>0.087</td>\n",
       "      <td>0.023</td>\n",
       "      <td>0.919</td>\n",
       "      <td>0.906</td>\n",
       "      <td>0.964</td>\n",
       "      <td>0.929</td>\n",
       "    </tr>\n",
       "    <tr>\n",
       "      <th>Regularised QDA</th>\n",
       "      <td>0.067</td>\n",
       "      <td>0.020</td>\n",
       "      <td>0.965</td>\n",
       "      <td>0.891</td>\n",
       "      <td>0.968</td>\n",
       "      <td>0.922</td>\n",
       "    </tr>\n",
       "  </tbody>\n",
       "</table>\n",
       "</div>"
      ],
      "text/plain": [
       "                 Error rate     SE  Sensitivity  Specificity    AUC  Precision\n",
       "KNN                   0.127  0.027        0.895        0.844  0.954      0.885\n",
       "Logistic              0.080  0.022        0.930        0.906  0.963      0.930\n",
       "L1 regularised        0.087  0.023        0.907        0.922  0.962      0.940\n",
       "L2 regularised        0.080  0.022        0.930        0.906  0.964      0.930\n",
       "LDA                   0.093  0.024        0.907        0.906  0.966      0.929\n",
       "QDA                   0.087  0.023        0.919        0.906  0.964      0.929\n",
       "Regularised QDA       0.067  0.020        0.965        0.891  0.968      0.922"
      ]
     },
     "execution_count": 16,
     "metadata": {},
     "output_type": "execute_result"
    }
   ],
   "source": [
    "from sklearn.metrics import accuracy_score, confusion_matrix, roc_auc_score, precision_score\n",
    "\n",
    "columns=['Error rate', 'SE', 'Sensitivity', 'Specificity', 'AUC', 'Precision']\n",
    "rows=['KNN','Logistic', 'L1 regularised', 'L2 regularised', 'LDA', 'QDA', 'Regularised QDA']\n",
    "results=pd.DataFrame(0.0, columns=columns, index=rows) \n",
    "\n",
    "\n",
    "methods=[knn, logit, logit_l1, logit_l2, lda, qda, qda_reg]\n",
    "\n",
    "for i, method in enumerate(methods):\n",
    "    \n",
    "    if i < 4:\n",
    "        y_pred = method.predict(X_test)\n",
    "        y_prob = method.predict_proba(X_test)\n",
    "    else:\n",
    "        y_pred = method.predict(X_test.iloc[:,:3])\n",
    "        y_prob = method.predict_proba(X_test.iloc[:,:3])\n",
    "    \n",
    "    confusion  = confusion_matrix(y_test, y_pred) \n",
    "    error_rate =  1 - accuracy_score(y_test, y_pred)\n",
    "\n",
    "    results.iloc[i,0]=  error_rate\n",
    "    results.iloc[i,1]=  np.sqrt(error_rate*(1- error_rate)/len(y_test))\n",
    "    results.iloc[i,2]=  confusion[1,1]/np.sum(confusion[1,:])\n",
    "    results.iloc[i,3]=  confusion[0,0]/np.sum(confusion[0,:])\n",
    "    results.iloc[i,4]=  roc_auc_score(y_test, y_prob[:,1])\n",
    "    results.iloc[i,5]=  precision_score(y_test, y_pred)\n",
    "\n",
    "results.round(3)"
   ]
  },
  {
   "cell_type": "markdown",
   "metadata": {},
   "source": [
    "Except for the KNN method, all models have very similar ROC curves. "
   ]
  },
  {
   "cell_type": "code",
   "execution_count": 17,
   "metadata": {},
   "outputs": [
    {
     "data": {
      "image/png": "[encoded data removed]",
      "text/plain": [
       "<matplotlib.figure.Figure at 0x1ed2a056518>"
      ]
     },
     "metadata": {},
     "output_type": "display_data"
    }
   ],
   "source": [
    "palette = ['#1F77B4', '#FF7F0E', '#2CA02C', '#DB2728', '#9467BD']\n",
    "\n",
    "from sklearn.metrics import roc_curve\n",
    "\n",
    "labels=['KNN', 'Logistic regression', 'L2 regularised', 'LDA', 'Regularised QDA']\n",
    "methods=[knn, logit, logit_l2, lda, qda_reg]\n",
    "\n",
    "fig, ax= plt.subplots(figsize=(9,6))\n",
    "\n",
    "for i, method in enumerate(methods):\n",
    "    if i < 3:\n",
    "        y_prob = method.predict_proba(X_test)\n",
    "    else:\n",
    "        y_prob = method.predict_proba(X_test.iloc[:,:3])\n",
    "        \n",
    "    fpr, tpr, _ = roc_curve(y_test, y_prob[:,1])\n",
    "    auc = roc_auc_score(y_test, y_prob[:,1])\n",
    "    ax.plot(1-fpr, tpr, label=labels[i] + ' (AUC = {:.3f})'.format(auc), color = palette[i])\n",
    "    \n",
    "ax.set_xlabel('Specificity')\n",
    "ax.set_ylabel('Sensitivity')\n",
    "ax.set_title('ROC curves', fontsize=14)\n",
    "plt.legend(fontsize=13)\n",
    "plt.show()\n"
   ]
  }
 ],
 "metadata": {
  "kernelspec": {
   "display_name": "Python 3",
   "language": "python",
   "name": "python3"
  },
  "language_info": {
   "codemirror_mode": {
    "name": "ipython",
    "version": 3
   },
   "file_extension": ".py",
   "mimetype": "text/x-python",
   "name": "python",
   "nbconvert_exporter": "python",
   "pygments_lexer": "ipython3",
   "version": "3.6.2"
  }
 },
 "nbformat": 4,
 "nbformat_minor": 2
}
